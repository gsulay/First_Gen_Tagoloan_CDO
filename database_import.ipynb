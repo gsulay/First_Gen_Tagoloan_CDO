{
 "cells": [
  {
   "cell_type": "code",
   "execution_count": 52,
   "metadata": {},
   "outputs": [],
   "source": [
    "import sqlite3 as sql\n",
    "import pandas as pd\n",
    "\n",
    "con = sql.connect(r\"DATABASE\\fgen_db.db\")\n",
    "cur = con.cursor()\n",
    "\n",
    "rg0 = pd.read_csv(r'Edited_Data\\Tagoloan\\rg0.csv')\n",
    "location = 'Tagoloan'"
   ]
  },
  {
   "cell_type": "code",
   "execution_count": 53,
   "metadata": {},
   "outputs": [
    {
     "data": {
      "text/html": [
       "<div>\n",
       "<style scoped>\n",
       "    .dataframe tbody tr th:only-of-type {\n",
       "        vertical-align: middle;\n",
       "    }\n",
       "\n",
       "    .dataframe tbody tr th {\n",
       "        vertical-align: top;\n",
       "    }\n",
       "\n",
       "    .dataframe thead th {\n",
       "        text-align: right;\n",
       "    }\n",
       "</style>\n",
       "<table border=\"1\" class=\"dataframe\">\n",
       "  <thead>\n",
       "    <tr style=\"text-align: right;\">\n",
       "      <th></th>\n",
       "      <th>Unnamed: 0.1</th>\n",
       "      <th>Unnamed: 0</th>\n",
       "      <th>Station Name</th>\n",
       "      <th>Sensor Type</th>\n",
       "      <th>Sensor Value</th>\n",
       "      <th>Sensor ID</th>\n",
       "      <th>Units</th>\n",
       "      <th>Timestamp</th>\n",
       "      <th>Sensor Label</th>\n",
       "    </tr>\n",
       "  </thead>\n",
       "  <tbody>\n",
       "    <tr>\n",
       "      <th>0</th>\n",
       "      <td>0</td>\n",
       "      <td>0</td>\n",
       "      <td>FGEN Tagoloan Gauge Station</td>\n",
       "      <td>Rain</td>\n",
       "      <td>207.2</td>\n",
       "      <td>46491</td>\n",
       "      <td>mm</td>\n",
       "      <td>1/27/2020 12:47:00 AM</td>\n",
       "      <td>Rain Gauge</td>\n",
       "    </tr>\n",
       "    <tr>\n",
       "      <th>1</th>\n",
       "      <td>1</td>\n",
       "      <td>1</td>\n",
       "      <td>FGEN Tagoloan Gauge Station</td>\n",
       "      <td>Rain</td>\n",
       "      <td>207.2</td>\n",
       "      <td>46491</td>\n",
       "      <td>mm</td>\n",
       "      <td>1/27/2020 1:47:00 AM</td>\n",
       "      <td>Rain Gauge</td>\n",
       "    </tr>\n",
       "    <tr>\n",
       "      <th>2</th>\n",
       "      <td>2</td>\n",
       "      <td>2</td>\n",
       "      <td>FGEN Tagoloan Gauge Station</td>\n",
       "      <td>Rain</td>\n",
       "      <td>207.2</td>\n",
       "      <td>46491</td>\n",
       "      <td>mm</td>\n",
       "      <td>1/27/2020 2:47:00 AM</td>\n",
       "      <td>Rain Gauge</td>\n",
       "    </tr>\n",
       "    <tr>\n",
       "      <th>3</th>\n",
       "      <td>3</td>\n",
       "      <td>3</td>\n",
       "      <td>FGEN Tagoloan Gauge Station</td>\n",
       "      <td>Rain</td>\n",
       "      <td>207.2</td>\n",
       "      <td>46491</td>\n",
       "      <td>mm</td>\n",
       "      <td>1/27/2020 3:47:00 AM</td>\n",
       "      <td>Rain Gauge</td>\n",
       "    </tr>\n",
       "    <tr>\n",
       "      <th>4</th>\n",
       "      <td>4</td>\n",
       "      <td>4</td>\n",
       "      <td>FGEN Tagoloan Gauge Station</td>\n",
       "      <td>Rain</td>\n",
       "      <td>207.2</td>\n",
       "      <td>46491</td>\n",
       "      <td>mm</td>\n",
       "      <td>1/27/2020 4:47:00 AM</td>\n",
       "      <td>Rain Gauge</td>\n",
       "    </tr>\n",
       "  </tbody>\n",
       "</table>\n",
       "</div>"
      ],
      "text/plain": [
       "   Unnamed: 0.1  Unnamed: 0                 Station Name Sensor Type  \\\n",
       "0             0           0  FGEN Tagoloan Gauge Station        Rain   \n",
       "1             1           1  FGEN Tagoloan Gauge Station        Rain   \n",
       "2             2           2  FGEN Tagoloan Gauge Station        Rain   \n",
       "3             3           3  FGEN Tagoloan Gauge Station        Rain   \n",
       "4             4           4  FGEN Tagoloan Gauge Station        Rain   \n",
       "\n",
       "   Sensor Value  Sensor ID Units              Timestamp Sensor Label  \n",
       "0         207.2      46491    mm  1/27/2020 12:47:00 AM   Rain Gauge  \n",
       "1         207.2      46491    mm   1/27/2020 1:47:00 AM   Rain Gauge  \n",
       "2         207.2      46491    mm   1/27/2020 2:47:00 AM   Rain Gauge  \n",
       "3         207.2      46491    mm   1/27/2020 3:47:00 AM   Rain Gauge  \n",
       "4         207.2      46491    mm   1/27/2020 4:47:00 AM   Rain Gauge  "
      ]
     },
     "execution_count": 53,
     "metadata": {},
     "output_type": "execute_result"
    }
   ],
   "source": [
    "rg0.head()"
   ]
  },
  {
   "cell_type": "code",
   "execution_count": 54,
   "metadata": {},
   "outputs": [],
   "source": [
    "db = rg0[['Timestamp','Sensor Value']]"
   ]
  },
  {
   "cell_type": "code",
   "execution_count": 55,
   "metadata": {},
   "outputs": [],
   "source": [
    "for i in range(db.shape[0]):\n",
    "    timestamp, raw_val = db.iloc[i,:]\n",
    "    cur.execute(f\"\"\"INSERT INTO precipitation\n",
    "                    VALUES ('{timestamp}',{raw_val},NULL,'{location}');\"\"\")\n",
    "con.commit()"
   ]
  },
  {
   "cell_type": "code",
   "execution_count": 20,
   "metadata": {},
   "outputs": [
    {
     "data": {
      "text/plain": [
       "(15174, 9)"
      ]
     },
     "execution_count": 20,
     "metadata": {},
     "output_type": "execute_result"
    }
   ],
   "source": [
    "rg0.shape"
   ]
  },
  {
   "cell_type": "code",
   "execution_count": 56,
   "metadata": {},
   "outputs": [],
   "source": [
    "cur.close()\n",
    "con.close()"
   ]
  },
  {
   "cell_type": "code",
   "execution_count": 40,
   "metadata": {
    "vscode": {
     "languageId": "sql"
    }
   },
   "outputs": [
    {
     "name": "stdout",
     "output_type": "stream",
     "text": [
      "The sql extension is already loaded. To reload it, use:\n",
      "  %reload_ext sql\n"
     ]
    }
   ],
   "source": [
    "%load_ext sql\n",
    "%sql sqlite:///DATABASE\\fgen_db.db"
   ]
  },
  {
   "cell_type": "code",
   "execution_count": null,
   "metadata": {
    "vscode": {
     "languageId": "sql"
    }
   },
   "outputs": [],
   "source": [
    "%%sql\n",
    "\n",
    "SELECT * FROM precipitation\n",
    "WHERE 'Raw Value' > 207.2;"
   ]
  },
  {
   "cell_type": "code",
   "execution_count": 67,
   "metadata": {
    "vscode": {
     "languageId": "sql"
    }
   },
   "outputs": [
    {
     "name": "stdout",
     "output_type": "stream",
     "text": [
      " * sqlite:///DATABASE\\fgen_db.db\n",
      "Done.\n"
     ]
    },
    {
     "data": {
      "text/html": [
       "<table>\n",
       "    <thead>\n",
       "        <tr>\n",
       "            <th>sql</th>\n",
       "        </tr>\n",
       "    </thead>\n",
       "    <tbody>\n",
       "    </tbody>\n",
       "</table>"
      ],
      "text/plain": [
       "[]"
      ]
     },
     "execution_count": 67,
     "metadata": {},
     "output_type": "execute_result"
    },
    {
     "ename": "",
     "evalue": "",
     "output_type": "error",
     "traceback": [
      "\u001b[1;31mThe Kernel crashed while executing code in the the current cell or a previous cell. Please review the code in the cell(s) to identify a possible cause of the failure. Click <a href='https://aka.ms/vscodeJupyterKernelCrash'>here</a> for more info. View Jupyter <a href='command:jupyter.viewOutput'>log</a> for further details."
     ]
    }
   ],
   "source": [
    "%%sql\n",
    "\n",
    "SELECT sql FROM sqlite_schema\n",
    "WHERE type='precipitation';"
   ]
  },
  {
   "cell_type": "code",
   "execution_count": null,
   "metadata": {
    "vscode": {
     "languageId": "sql"
    }
   },
   "outputs": [],
   "source": []
  }
 ],
 "metadata": {
  "kernelspec": {
   "display_name": "base",
   "language": "python",
   "name": "python3"
  },
  "language_info": {
   "codemirror_mode": {
    "name": "ipython",
    "version": 3
   },
   "file_extension": ".py",
   "mimetype": "text/x-python",
   "name": "python",
   "nbconvert_exporter": "python",
   "pygments_lexer": "ipython3",
   "version": "3.9.7"
  },
  "orig_nbformat": 4
 },
 "nbformat": 4,
 "nbformat_minor": 2
}
