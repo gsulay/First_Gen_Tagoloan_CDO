{
 "cells": [
  {
   "cell_type": "code",
   "execution_count": 50,
   "metadata": {},
   "outputs": [],
   "source": [
    "import numpy as np\n",
    "import pandas as pd\n",
    "import os, sys"
   ]
  },
  {
   "cell_type": "code",
   "execution_count": 51,
   "metadata": {},
   "outputs": [],
   "source": [
    "def cleaned_df(path, suffix):\n",
    "    files = [os.path.join(path,i) for i in os.listdir(path) if os.path.isfile(os.path.join(path,i))]\n",
    "\n",
    "    main_df = pd.read_excel(files[0])\n",
    "    for i in files[1:]:\n",
    "        df = pd.read_excel(i)\n",
    "        main_df = main_df.append(df)\n",
    "    file_loc = os.path.join('Edited_Data',f'{suffix}.csv')\n",
    "    main_df.to_csv(file_loc)\n",
    "    print(f'File {suffix}.csv is saved on {file_loc}.')"
   ]
  },
  {
   "cell_type": "markdown",
   "metadata": {},
   "source": [
    "### To CSV"
   ]
  },
  {
   "cell_type": "code",
   "execution_count": 52,
   "metadata": {},
   "outputs": [
    {
     "name": "stdout",
     "output_type": "stream",
     "text": [
      "File tag.csv is saved on Edited_Data\\tag.csv.\n",
      "File rg0.csv is saved on Edited_Data\\rg0.csv.\n",
      "File rg1.csv is saved on Edited_Data\\rg1.csv.\n"
     ]
    }
   ],
   "source": [
    "cleaned_df(\"TAG/TAG_Tagoloan\", \"tag\" )\n",
    "cleaned_df(\"Rain Gauge/Tagoloan/Rain Gauge 1\", \"rg0\")\n",
    "cleaned_df(\"Rain Gauge/Tagoloan/Rain Gauge 2\", \"rg1\")"
   ]
  },
  {
   "cell_type": "code",
   "execution_count": null,
   "metadata": {},
   "outputs": [],
   "source": []
  }
 ],
 "metadata": {
  "kernelspec": {
   "display_name": "Python 3",
   "language": "python",
   "name": "python3"
  },
  "language_info": {
   "codemirror_mode": {
    "name": "ipython",
    "version": 3
   },
   "file_extension": ".py",
   "mimetype": "text/x-python",
   "name": "python",
   "nbconvert_exporter": "python",
   "pygments_lexer": "ipython3",
   "version": "3.8.5"
  }
 },
 "nbformat": 4,
 "nbformat_minor": 4
}
