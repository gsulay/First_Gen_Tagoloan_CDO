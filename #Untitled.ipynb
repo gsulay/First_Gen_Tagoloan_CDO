{
 "cells": [
  {
   "cell_type": "code",
   "execution_count": 3,
   "metadata": {},
   "outputs": [],
   "source": []
  },
  {
   "cell_type": "code",
   "execution_count": 5,
   "metadata": {},
   "outputs": [],
   "source": [
    "import numpy as np\n",
    "import pandas as pd\n",
    "def water_level_correct(old):\n",
    "    array=old\n",
    "    count=0\n",
    "    for i in array:\n",
    "        now=count\n",
    "        if np.isnan(i)==False:\n",
    "            count +=1\n",
    "            continue\n",
    "        elif np.isnan(i):\n",
    "            n=0\n",
    "            \n",
    "            for z in array[count:]:\n",
    "                if np.isnan(z)==True:\n",
    "                    n += 1\n",
    "                else:\n",
    "                    print(count,n)\n",
    "                    end_index=count+n+1\n",
    "                    print(end_index, len(array))\n",
    "                    if (end_index) >= len(array):  \n",
    "                        m=0\n",
    "                        y1=array[count-1]\n",
    "                    else:\n",
    "                        y2=array[count+(n+1)]\n",
    "                        y1=array[count-1]\n",
    "                        x2=n+2\n",
    "                        m=(y2-y1)/x2\n",
    "                    x=0\n",
    "                    for f in array[count:(count+n)]:\n",
    "                        print(y1)\n",
    "                        x+=1\n",
    "                        y=m*x+y1\n",
    "                        array[count+(x-1)]=y\n",
    "    new=array\n",
    "    return new\n",
    "\n",
    "\n",
    "                "
   ]
  },
  {
   "cell_type": "code",
   "execution_count": 14,
   "metadata": {},
   "outputs": [
    {
     "data": {
      "text/plain": [
       "0    0.000000\n",
       "1    0.555556\n",
       "2    1.111111\n",
       "3    1.666667\n",
       "4    2.222222\n",
       "5    2.777778\n",
       "6    3.333333\n",
       "7    3.888889\n",
       "8    4.444444\n",
       "9    5.000000\n",
       "dtype: float64"
      ]
     },
     "execution_count": 14,
     "metadata": {},
     "output_type": "execute_result"
    }
   ],
   "source": [
    "z=np.linspace(0,5,10)\n",
    "old=z.copy()\n",
    "z[4:7]=np.nan\n",
    "z[8:9]=np.nan\n",
    "\n",
    "a=pd.Series(z)\n",
    "new=a.interpolate()\n",
    "new"
   ]
  },
  {
   "cell_type": "code",
   "execution_count": 9,
   "metadata": {},
   "outputs": [
    {
     "data": {
      "text/plain": [
       "array([0.        , 0.55555556, 1.11111111, 1.66666667, 2.22222222,\n",
       "       2.77777778, 3.33333333, 3.88888889, 4.44444444, 5.        ])"
      ]
     },
     "execution_count": 9,
     "metadata": {},
     "output_type": "execute_result"
    }
   ],
   "source": [
    "old"
   ]
  },
  {
   "cell_type": "code",
   "execution_count": 13,
   "metadata": {},
   "outputs": [
    {
     "data": {
      "text/plain": [
       "(10,)"
      ]
     },
     "execution_count": 13,
     "metadata": {},
     "output_type": "execute_result"
    }
   ],
   "source": [
    "z.shape"
   ]
  },
  {
   "cell_type": "code",
   "execution_count": 111,
   "metadata": {},
   "outputs": [
    {
     "name": "stdout",
     "output_type": "stream",
     "text": [
      "4 3\n",
      "8 10\n",
      "1.6666666666666667\n",
      "1.6666666666666667\n",
      "1.6666666666666667\n",
      "4 4\n",
      "9 10\n",
      "1.6666666666666667\n",
      "1.6666666666666667\n",
      "1.6666666666666667\n",
      "1.6666666666666667\n",
      "7 0\n",
      "8 10\n",
      "7 1\n",
      "9 10\n",
      "3.333333333333333\n"
     ]
    }
   ],
   "source": []
  },
  {
   "cell_type": "code",
   "execution_count": 107,
   "metadata": {},
   "outputs": [],
   "source": [
    "corr=water_level_correct(corr)"
   ]
  },
  {
   "cell_type": "code",
   "execution_count": 112,
   "metadata": {},
   "outputs": [
    {
     "data": {
      "text/plain": [
       "array([0.        , 0.55555556, 1.11111111, 1.66666667, 2.22222222,\n",
       "       2.77777778, 3.33333333, 3.88888889,        nan, 5.        ])"
      ]
     },
     "execution_count": 112,
     "metadata": {},
     "output_type": "execute_result"
    }
   ],
   "source": [
    "corr"
   ]
  },
  {
   "cell_type": "code",
   "execution_count": null,
   "metadata": {},
   "outputs": [],
   "source": []
  }
 ],
 "metadata": {
  "kernelspec": {
   "display_name": "Python 3",
   "language": "python",
   "name": "python3"
  },
  "language_info": {
   "codemirror_mode": {
    "name": "ipython",
    "version": 3
   },
   "file_extension": ".py",
   "mimetype": "text/x-python",
   "name": "python",
   "nbconvert_exporter": "python",
   "pygments_lexer": "ipython3",
   "version": "3.8.5"
  }
 },
 "nbformat": 4,
 "nbformat_minor": 4
}
