{
 "cells": [
  {
   "cell_type": "code",
   "execution_count": 57,
   "id": "4c314a44-6470-4dff-b7fe-41499a54383f",
   "metadata": {},
   "outputs": [],
   "source": [
    "import pandas as pd\n",
    "from pathlib import Path\n",
    "import os"
   ]
  },
  {
   "cell_type": "code",
   "execution_count": 58,
   "id": "d0e315a7-5b13-4e9b-a3c7-fc257b8af5b7",
   "metadata": {},
   "outputs": [],
   "source": [
    "base_path = Path(r'Rain Gauge\\Uncleaned Cagayan Data\\CDORB (Ugiaban) Rain Data GPM IMERG Half-hourly data')\n",
    "all_files = os.listdir(base_path)\n",
    "\n",
    "def xl_file_sorter(all_files):\n",
    "    xl_files = []\n",
    "    for file in all_files:\n",
    "        if file.split('.')[-1] == 'xlsx':\n",
    "            xl_files.append(os.path.join(base_path,file))\n",
    "    return xl_files\n",
    "\n",
    "xl_files = xl_file_sorter(all_files)"
   ]
  },
  {
   "cell_type": "markdown",
   "id": "d40301b3-d95e-4b54-ad9c-75baec10edfa",
   "metadata": {},
   "source": [
    "## Convert Excel to Pandas Dataframe then to CSV"
   ]
  },
  {
   "cell_type": "code",
   "execution_count": 59,
   "id": "ab81bbe8-56f7-47ba-8219-2c44e1e7b544",
   "metadata": {},
   "outputs": [],
   "source": [
    "from openpyxl import load_workbook"
   ]
  },
  {
   "cell_type": "code",
   "execution_count": 60,
   "id": "f84823a4-df2f-46ae-ad39-ef0e9f0d594d",
   "metadata": {},
   "outputs": [],
   "source": [
    "import numpy as np\n",
    "import datetime\n",
    "\n",
    "def ws_to_df(ws):\n",
    "    arry = []\n",
    "    for r_index, row in enumerate(ws.iter_rows(min_row=10, min_col=1, max_col = 2)):\n",
    "        row_arry=[]\n",
    "        for c_index, cell in enumerate(row):\n",
    "            row_arry.append(cell.value)\n",
    "        arry.append(row_arry)\n",
    "    df = pd.DataFrame(arry, columns =['Timestamp','Sensor Value'])\n",
    "    df.iloc[:,0] = df.iloc[:,0].apply(lambda x: pd.to_datetime(x).strftime(\"%m/%d/%Y %H:%M:%S\"))\n",
    "    df.iloc[:,1] = df.iloc[:,1].apply(lambda x: float(\"{:.5f}\".format(x)))\n",
    "    return df\n"
   ]
  },
  {
   "cell_type": "code",
   "execution_count": 61,
   "id": "1ada87b4-0ec8-4eb6-959f-e8198cf87c6a",
   "metadata": {},
   "outputs": [],
   "source": [
    "df_list = []\n",
    "for index, file in enumerate(xl_files):\n",
    "    wb = load_workbook(file)    #load excel using openpyxl\n",
    "    ws = wb.active    #select active worksheet\n",
    "    df_list.append(ws_to_df(ws))"
   ]
  },
  {
   "cell_type": "code",
   "execution_count": 62,
   "id": "bc80021a",
   "metadata": {},
   "outputs": [
    {
     "data": {
      "text/plain": [
       "['Rain Gauge\\\\Uncleaned Cagayan Data\\\\CDORB (Ugiaban) Rain Data GPM IMERG Half-hourly data\\\\g4.areaAvgTimeSeries.GPM_3IMERGHHE_06_precipitationCal.20210101-20210131.124E_8N_124E_8N.csv.xlsx',\n",
       " 'Rain Gauge\\\\Uncleaned Cagayan Data\\\\CDORB (Ugiaban) Rain Data GPM IMERG Half-hourly data\\\\g4.areaAvgTimeSeries.GPM_3IMERGHHE_06_precipitationCal.20210201-20210228.124E_8N_124E_8N.csv.xlsx',\n",
       " 'Rain Gauge\\\\Uncleaned Cagayan Data\\\\CDORB (Ugiaban) Rain Data GPM IMERG Half-hourly data\\\\g4.areaAvgTimeSeries.GPM_3IMERGHHE_06_precipitationCal.20210301-20210331.124E_8N_124E_8N.csv.xlsx',\n",
       " 'Rain Gauge\\\\Uncleaned Cagayan Data\\\\CDORB (Ugiaban) Rain Data GPM IMERG Half-hourly data\\\\g4.areaAvgTimeSeries.GPM_3IMERGHHE_06_precipitationCal.20210401-20210430.124E_8N_124E_8N.csv.xlsx',\n",
       " 'Rain Gauge\\\\Uncleaned Cagayan Data\\\\CDORB (Ugiaban) Rain Data GPM IMERG Half-hourly data\\\\g4.areaAvgTimeSeries.GPM_3IMERGHHE_06_precipitationCal.20210501-20210531.124E_8N_124E_8N.csv.xlsx',\n",
       " 'Rain Gauge\\\\Uncleaned Cagayan Data\\\\CDORB (Ugiaban) Rain Data GPM IMERG Half-hourly data\\\\g4.areaAvgTimeSeries.GPM_3IMERGHHE_06_precipitationCal.20210601-20210630.124E_8N_124E_8N.csv.xlsx',\n",
       " 'Rain Gauge\\\\Uncleaned Cagayan Data\\\\CDORB (Ugiaban) Rain Data GPM IMERG Half-hourly data\\\\g4.areaAvgTimeSeries.GPM_3IMERGHHE_06_precipitationCal.20210701-20210731.124E_8N_124E_8N.csv.xlsx',\n",
       " 'Rain Gauge\\\\Uncleaned Cagayan Data\\\\CDORB (Ugiaban) Rain Data GPM IMERG Half-hourly data\\\\g4.areaAvgTimeSeries.GPM_3IMERGHHE_06_precipitationCal.20210801-20210831.124E_8N_124E_8N.csv.xlsx',\n",
       " 'Rain Gauge\\\\Uncleaned Cagayan Data\\\\CDORB (Ugiaban) Rain Data GPM IMERG Half-hourly data\\\\g4.areaAvgTimeSeries.GPM_3IMERGHHE_06_precipitationCal.20210901-20210930.124E_8N_124E_8N.csv.xlsx',\n",
       " 'Rain Gauge\\\\Uncleaned Cagayan Data\\\\CDORB (Ugiaban) Rain Data GPM IMERG Half-hourly data\\\\g4.areaAvgTimeSeries.GPM_3IMERGHHE_06_precipitationCal.20211001-20211031.124E_8N_124E_8N.csv.xlsx',\n",
       " 'Rain Gauge\\\\Uncleaned Cagayan Data\\\\CDORB (Ugiaban) Rain Data GPM IMERG Half-hourly data\\\\g4.areaAvgTimeSeries.GPM_3IMERGHHE_06_precipitationCal.20211101-20211130.124E_8N_124E_8N.csv.xlsx',\n",
       " 'Rain Gauge\\\\Uncleaned Cagayan Data\\\\CDORB (Ugiaban) Rain Data GPM IMERG Half-hourly data\\\\g4.areaAvgTimeSeries.GPM_3IMERGHHE_06_precipitationCal.20211201-20211231.124E_8N_124E_8N.csv.xlsx',\n",
       " 'Rain Gauge\\\\Uncleaned Cagayan Data\\\\CDORB (Ugiaban) Rain Data GPM IMERG Half-hourly data\\\\g4.areaAvgTimeSeries.GPM_3IMERGHHE_06_precipitationCal.20220101-20220630.124E_8N_124E_8N.xlsx']"
      ]
     },
     "execution_count": 62,
     "metadata": {},
     "output_type": "execute_result"
    }
   ],
   "source": [
    "xl_files"
   ]
  },
  {
   "cell_type": "code",
   "execution_count": 63,
   "id": "5d4e7959-8e58-4d8d-b125-498cc3c232a9",
   "metadata": {},
   "outputs": [],
   "source": [
    "main_df = pd.concat(df_list,ignore_index=True)"
   ]
  },
  {
   "cell_type": "code",
   "execution_count": 64,
   "id": "791053b7-624f-4f81-bf9c-c9e0c1ff2ba0",
   "metadata": {},
   "outputs": [],
   "source": [
    "main_df['Timestamp_New'] = main_df['Timestamp'].apply(lambda x: pd.to_datetime(x))\n",
    "main_df = main_df.sort_values(by='Timestamp_New').reset_index(drop=True).drop(columns=['Timestamp_New'])"
   ]
  },
  {
   "cell_type": "code",
   "execution_count": 65,
   "id": "bf3bf77d-69ad-4032-a588-8e7e8012e206",
   "metadata": {},
   "outputs": [
    {
     "data": {
      "text/html": [
       "<div>\n",
       "<style scoped>\n",
       "    .dataframe tbody tr th:only-of-type {\n",
       "        vertical-align: middle;\n",
       "    }\n",
       "\n",
       "    .dataframe tbody tr th {\n",
       "        vertical-align: top;\n",
       "    }\n",
       "\n",
       "    .dataframe thead th {\n",
       "        text-align: right;\n",
       "    }\n",
       "</style>\n",
       "<table border=\"1\" class=\"dataframe\">\n",
       "  <thead>\n",
       "    <tr style=\"text-align: right;\">\n",
       "      <th></th>\n",
       "      <th>Timestamp</th>\n",
       "      <th>Sensor Value</th>\n",
       "    </tr>\n",
       "  </thead>\n",
       "  <tbody>\n",
       "    <tr>\n",
       "      <th>0</th>\n",
       "      <td>12/31/2020 00:00:00</td>\n",
       "      <td>0.00000</td>\n",
       "    </tr>\n",
       "    <tr>\n",
       "      <th>1</th>\n",
       "      <td>12/31/2020 00:30:00</td>\n",
       "      <td>0.00000</td>\n",
       "    </tr>\n",
       "    <tr>\n",
       "      <th>2</th>\n",
       "      <td>12/31/2020 01:00:00</td>\n",
       "      <td>0.00000</td>\n",
       "    </tr>\n",
       "    <tr>\n",
       "      <th>3</th>\n",
       "      <td>12/31/2020 01:30:00</td>\n",
       "      <td>0.00000</td>\n",
       "    </tr>\n",
       "    <tr>\n",
       "      <th>4</th>\n",
       "      <td>12/31/2020 02:00:00</td>\n",
       "      <td>0.01515</td>\n",
       "    </tr>\n",
       "    <tr>\n",
       "      <th>...</th>\n",
       "      <td>...</td>\n",
       "      <td>...</td>\n",
       "    </tr>\n",
       "    <tr>\n",
       "      <th>26203</th>\n",
       "      <td>06/30/2022 21:30:00</td>\n",
       "      <td>0.00000</td>\n",
       "    </tr>\n",
       "    <tr>\n",
       "      <th>26204</th>\n",
       "      <td>06/30/2022 22:00:00</td>\n",
       "      <td>0.00000</td>\n",
       "    </tr>\n",
       "    <tr>\n",
       "      <th>26205</th>\n",
       "      <td>06/30/2022 22:30:00</td>\n",
       "      <td>0.00000</td>\n",
       "    </tr>\n",
       "    <tr>\n",
       "      <th>26206</th>\n",
       "      <td>06/30/2022 23:00:00</td>\n",
       "      <td>0.00000</td>\n",
       "    </tr>\n",
       "    <tr>\n",
       "      <th>26207</th>\n",
       "      <td>06/30/2022 23:30:00</td>\n",
       "      <td>0.00000</td>\n",
       "    </tr>\n",
       "  </tbody>\n",
       "</table>\n",
       "<p>26208 rows × 2 columns</p>\n",
       "</div>"
      ],
      "text/plain": [
       "                 Timestamp  Sensor Value\n",
       "0      12/31/2020 00:00:00       0.00000\n",
       "1      12/31/2020 00:30:00       0.00000\n",
       "2      12/31/2020 01:00:00       0.00000\n",
       "3      12/31/2020 01:30:00       0.00000\n",
       "4      12/31/2020 02:00:00       0.01515\n",
       "...                    ...           ...\n",
       "26203  06/30/2022 21:30:00       0.00000\n",
       "26204  06/30/2022 22:00:00       0.00000\n",
       "26205  06/30/2022 22:30:00       0.00000\n",
       "26206  06/30/2022 23:00:00       0.00000\n",
       "26207  06/30/2022 23:30:00       0.00000\n",
       "\n",
       "[26208 rows x 2 columns]"
      ]
     },
     "execution_count": 65,
     "metadata": {},
     "output_type": "execute_result"
    }
   ],
   "source": [
    "main_df"
   ]
  },
  {
   "cell_type": "code",
   "execution_count": 66,
   "id": "8217694e-37f0-43fe-bd76-c675d92c50a5",
   "metadata": {},
   "outputs": [
    {
     "name": "stdout",
     "output_type": "stream",
     "text": [
      "203112 223006\n"
     ]
    }
   ],
   "source": [
    "#returns string start date YearMonthDate\n",
    "start = main_df.iloc[0,0].split()[0].split('/')\n",
    "start[2] = start[2][2:] #Extracts only the last 2 ends of the year\n",
    "start = \"\".join([start[i] for i in [2,1,0]]) #joins and rearranges list to specified date\n",
    "\n",
    "#returns string end date Month_Year\n",
    "end = main_df.iloc[-1,0].split()[0].split('/')\n",
    "end[2] = end[2][2:] #Extracts only the last 2 ends of the year\n",
    "end = \"\".join([end[i] for i in [2,1,0]]) #joins and rearranges list to specified date\n",
    "\n",
    "print(start,end)"
   ]
  },
  {
   "cell_type": "code",
   "execution_count": 67,
   "id": "c61331ea-3095-4d09-a058-1fb8d1a060ed",
   "metadata": {},
   "outputs": [],
   "source": [
    "filename = f'CAG Rain Gauge {start} to {end}.xlsx'\n",
    "main_df.to_excel(Path(f'Rain Gauge/Cagayan/Rain Gauge 1/{filename}'))\n",
    "main_df.to_excel(Path(f'Rain Gauge/Cagayan/Rain Gauge 2/{filename}'))"
   ]
  },
  {
   "cell_type": "code",
   "execution_count": null,
   "id": "6290c561-ac62-4ae0-b107-25dd11e884d6",
   "metadata": {},
   "outputs": [],
   "source": []
  }
 ],
 "metadata": {
  "kernelspec": {
   "display_name": "Python 3.9.7 ('base')",
   "language": "python",
   "name": "python3"
  },
  "language_info": {
   "codemirror_mode": {
    "name": "ipython",
    "version": 3
   },
   "file_extension": ".py",
   "mimetype": "text/x-python",
   "name": "python",
   "nbconvert_exporter": "python",
   "pygments_lexer": "ipython3",
   "version": "3.9.7"
  },
  "vscode": {
   "interpreter": {
    "hash": "7c031526a147983fdb0109eb28e11d0d68b68b2c0484cebf386ea03e1a29d4e7"
   }
  }
 },
 "nbformat": 4,
 "nbformat_minor": 5
}
