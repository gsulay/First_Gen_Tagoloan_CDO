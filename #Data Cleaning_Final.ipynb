{
 "cells": [
  {
   "cell_type": "code",
   "execution_count": 1,
   "metadata": {},
   "outputs": [],
   "source": [
    "import numpy as np\n",
    "import pandas as pd\n",
    "import os, sys\n",
    "from pathlib import Path\n",
    "import threading"
   ]
  },
  {
   "cell_type": "code",
   "execution_count": 2,
   "metadata": {},
   "outputs": [],
   "source": [
    "def cleaned_df(path, suffix,save_path):\n",
    "    files = [os.path.join(path,i) for i in os.listdir(path) if os.path.isfile(os.path.join(path,i))]\n",
    "    if len(files)==0:\n",
    "        print(f'{path} does not have any files...')\n",
    "        return\n",
    "    main_df = pd.read_excel(files[0])\n",
    "    for i in files[1:]:\n",
    "        df = pd.read_excel(i)\n",
    "        main_df = main_df.append(df)\n",
    "    file_loc = os.path.join(Path(save_path),f'{suffix}.csv')\n",
    "    main_df.to_csv(file_loc)\n",
    "    print(f'File {suffix}.csv is saved on {file_loc}.')"
   ]
  },
  {
   "cell_type": "markdown",
   "metadata": {},
   "source": [
    "### To CSV"
   ]
  },
  {
   "cell_type": "code",
   "execution_count": 3,
   "metadata": {},
   "outputs": [],
   "source": [
    "properties = {\n",
    "    'Tagoloan':[[\"Water Level/Tagoloan\", \"tag\",\"Edited_Data/Tagoloan\"],\n",
    "                [\"Rain Gauge/Tagoloan/Rain Gauge 1\", \"rg0\",\"Edited_Data/Tagoloan\"],\n",
    "                [\"Rain Gauge/Tagoloan/Rain Gauge 2\", \"rg1\",\"Edited_Data/Tagoloan\"]],\n",
    "    \n",
    "    'San Isidro':[[\"Water Level/Cagayan\", \"cag\",\"Edited_Data/Cagayan\"],\n",
    "                [\"Rain Gauge/Cagayan/Rain Gauge 1\", \"rg0\",\"Edited_Data/Cagayan\"],\n",
    "                [\"Rain Gauge/Cagayan/Rain Gauge 2\", \"rg1\",\"Edited_Data/Cagayan\"]],\n",
    "    r'San Isidro(Tagoloan Preciptation Data)':[[\"Water Level/Cagayan\", \"tag\",\"Edited_Data/Cagayan\"],\n",
    "                                               [\"Rain Gauge/Tagoloan/Rain Gauge 1\", \"rg0\",\"Edited_Data/Cagayan\"],\n",
    "                                               [\"Rain Gauge/Tagoloan/Rain Gauge 2\", \"rg1\",\"Edited_Data/Cagayan\"]]\n",
    "                                               \n",
    "}"
   ]
  },
  {
   "cell_type": "code",
   "execution_count": 4,
   "metadata": {},
   "outputs": [
    {
     "name": "stdout",
     "output_type": "stream",
     "text": [
      "0:Tagoloan\n",
      "1:San Isidro\n",
      "2:San Isidro(Tagoloan Preciptation Data)\n"
     ]
    },
    {
     "name": "stderr",
     "output_type": "stream",
     "text": [
      "c:\\Users\\sulay\\anaconda3\\lib\\site-packages\\openpyxl\\styles\\stylesheet.py:226: UserWarning: Workbook contains no default style, apply openpyxl's default\n",
      "  warn(\"Workbook contains no default style, apply openpyxl's default\")\n",
      "c:\\Users\\sulay\\anaconda3\\lib\\site-packages\\openpyxl\\styles\\stylesheet.py:226: UserWarning: Workbook contains no default style, apply openpyxl's default\n",
      "  warn(\"Workbook contains no default style, apply openpyxl's default\")\n",
      "C:\\Users\\sulay\\AppData\\Local\\Temp\\ipykernel_22456\\894811596.py:9: FutureWarning: The frame.append method is deprecated and will be removed from pandas in a future version. Use pandas.concat instead.\n",
      "  main_df = main_df.append(df)\n",
      "C:\\Users\\sulay\\AppData\\Local\\Temp\\ipykernel_22456\\894811596.py:9: FutureWarning: The frame.append method is deprecated and will be removed from pandas in a future version. Use pandas.concat instead.\n",
      "  main_df = main_df.append(df)\n",
      "c:\\Users\\sulay\\anaconda3\\lib\\site-packages\\openpyxl\\styles\\stylesheet.py:226: UserWarning: Workbook contains no default style, apply openpyxl's default\n",
      "  warn(\"Workbook contains no default style, apply openpyxl's default\")\n",
      "C:\\Users\\sulay\\AppData\\Local\\Temp\\ipykernel_22456\\894811596.py:9: FutureWarning: The frame.append method is deprecated and will be removed from pandas in a future version. Use pandas.concat instead.\n",
      "  main_df = main_df.append(df)\n",
      "C:\\Users\\sulay\\AppData\\Local\\Temp\\ipykernel_22456\\894811596.py:9: FutureWarning: The frame.append method is deprecated and will be removed from pandas in a future version. Use pandas.concat instead.\n",
      "  main_df = main_df.append(df)\n",
      "C:\\Users\\sulay\\AppData\\Local\\Temp\\ipykernel_22456\\894811596.py:9: FutureWarning: The frame.append method is deprecated and will be removed from pandas in a future version. Use pandas.concat instead.\n",
      "  main_df = main_df.append(df)\n",
      "C:\\Users\\sulay\\AppData\\Local\\Temp\\ipykernel_22456\\894811596.py:9: FutureWarning: The frame.append method is deprecated and will be removed from pandas in a future version. Use pandas.concat instead.\n",
      "  main_df = main_df.append(df)\n",
      "C:\\Users\\sulay\\AppData\\Local\\Temp\\ipykernel_22456\\894811596.py:9: FutureWarning: The frame.append method is deprecated and will be removed from pandas in a future version. Use pandas.concat instead.\n",
      "  main_df = main_df.append(df)\n",
      "C:\\Users\\sulay\\AppData\\Local\\Temp\\ipykernel_22456\\894811596.py:9: FutureWarning: The frame.append method is deprecated and will be removed from pandas in a future version. Use pandas.concat instead.\n",
      "  main_df = main_df.append(df)\n",
      "C:\\Users\\sulay\\AppData\\Local\\Temp\\ipykernel_22456\\894811596.py:9: FutureWarning: The frame.append method is deprecated and will be removed from pandas in a future version. Use pandas.concat instead.\n",
      "  main_df = main_df.append(df)\n",
      "C:\\Users\\sulay\\AppData\\Local\\Temp\\ipykernel_22456\\894811596.py:9: FutureWarning: The frame.append method is deprecated and will be removed from pandas in a future version. Use pandas.concat instead.\n",
      "  main_df = main_df.append(df)\n",
      "C:\\Users\\sulay\\AppData\\Local\\Temp\\ipykernel_22456\\894811596.py:9: FutureWarning: The frame.append method is deprecated and will be removed from pandas in a future version. Use pandas.concat instead.\n",
      "  main_df = main_df.append(df)\n",
      "C:\\Users\\sulay\\AppData\\Local\\Temp\\ipykernel_22456\\894811596.py:9: FutureWarning: The frame.append method is deprecated and will be removed from pandas in a future version. Use pandas.concat instead.\n",
      "  main_df = main_df.append(df)\n",
      "C:\\Users\\sulay\\AppData\\Local\\Temp\\ipykernel_22456\\894811596.py:9: FutureWarning: The frame.append method is deprecated and will be removed from pandas in a future version. Use pandas.concat instead.\n",
      "  main_df = main_df.append(df)\n",
      "C:\\Users\\sulay\\AppData\\Local\\Temp\\ipykernel_22456\\894811596.py:9: FutureWarning: The frame.append method is deprecated and will be removed from pandas in a future version. Use pandas.concat instead.\n",
      "  main_df = main_df.append(df)\n",
      "C:\\Users\\sulay\\AppData\\Local\\Temp\\ipykernel_22456\\894811596.py:9: FutureWarning: The frame.append method is deprecated and will be removed from pandas in a future version. Use pandas.concat instead.\n",
      "  main_df = main_df.append(df)\n",
      "C:\\Users\\sulay\\AppData\\Local\\Temp\\ipykernel_22456\\894811596.py:9: FutureWarning: The frame.append method is deprecated and will be removed from pandas in a future version. Use pandas.concat instead.\n",
      "  main_df = main_df.append(df)\n",
      "C:\\Users\\sulay\\AppData\\Local\\Temp\\ipykernel_22456\\894811596.py:9: FutureWarning: The frame.append method is deprecated and will be removed from pandas in a future version. Use pandas.concat instead.\n",
      "  main_df = main_df.append(df)\n",
      "C:\\Users\\sulay\\AppData\\Local\\Temp\\ipykernel_22456\\894811596.py:9: FutureWarning: The frame.append method is deprecated and will be removed from pandas in a future version. Use pandas.concat instead.\n",
      "  main_df = main_df.append(df)\n",
      "C:\\Users\\sulay\\AppData\\Local\\Temp\\ipykernel_22456\\894811596.py:9: FutureWarning: The frame.append method is deprecated and will be removed from pandas in a future version. Use pandas.concat instead.\n",
      "  main_df = main_df.append(df)\n",
      "C:\\Users\\sulay\\AppData\\Local\\Temp\\ipykernel_22456\\894811596.py:9: FutureWarning: The frame.append method is deprecated and will be removed from pandas in a future version. Use pandas.concat instead.\n",
      "  main_df = main_df.append(df)\n",
      "C:\\Users\\sulay\\AppData\\Local\\Temp\\ipykernel_22456\\894811596.py:9: FutureWarning: The frame.append method is deprecated and will be removed from pandas in a future version. Use pandas.concat instead.\n",
      "  main_df = main_df.append(df)\n",
      "C:\\Users\\sulay\\AppData\\Local\\Temp\\ipykernel_22456\\894811596.py:9: FutureWarning: The frame.append method is deprecated and will be removed from pandas in a future version. Use pandas.concat instead.\n",
      "  main_df = main_df.append(df)\n",
      "C:\\Users\\sulay\\AppData\\Local\\Temp\\ipykernel_22456\\894811596.py:9: FutureWarning: The frame.append method is deprecated and will be removed from pandas in a future version. Use pandas.concat instead.\n",
      "  main_df = main_df.append(df)\n",
      "C:\\Users\\sulay\\AppData\\Local\\Temp\\ipykernel_22456\\894811596.py:9: FutureWarning: The frame.append method is deprecated and will be removed from pandas in a future version. Use pandas.concat instead.\n",
      "  main_df = main_df.append(df)\n",
      "C:\\Users\\sulay\\AppData\\Local\\Temp\\ipykernel_22456\\894811596.py:9: FutureWarning: The frame.append method is deprecated and will be removed from pandas in a future version. Use pandas.concat instead.\n",
      "  main_df = main_df.append(df)\n",
      "C:\\Users\\sulay\\AppData\\Local\\Temp\\ipykernel_22456\\894811596.py:9: FutureWarning: The frame.append method is deprecated and will be removed from pandas in a future version. Use pandas.concat instead.\n",
      "  main_df = main_df.append(df)\n",
      "C:\\Users\\sulay\\AppData\\Local\\Temp\\ipykernel_22456\\894811596.py:9: FutureWarning: The frame.append method is deprecated and will be removed from pandas in a future version. Use pandas.concat instead.\n",
      "  main_df = main_df.append(df)\n",
      "C:\\Users\\sulay\\AppData\\Local\\Temp\\ipykernel_22456\\894811596.py:9: FutureWarning: The frame.append method is deprecated and will be removed from pandas in a future version. Use pandas.concat instead.\n",
      "  main_df = main_df.append(df)\n",
      "C:\\Users\\sulay\\AppData\\Local\\Temp\\ipykernel_22456\\894811596.py:9: FutureWarning: The frame.append method is deprecated and will be removed from pandas in a future version. Use pandas.concat instead.\n",
      "  main_df = main_df.append(df)\n",
      "C:\\Users\\sulay\\AppData\\Local\\Temp\\ipykernel_22456\\894811596.py:9: FutureWarning: The frame.append method is deprecated and will be removed from pandas in a future version. Use pandas.concat instead.\n",
      "  main_df = main_df.append(df)\n",
      "C:\\Users\\sulay\\AppData\\Local\\Temp\\ipykernel_22456\\894811596.py:9: FutureWarning: The frame.append method is deprecated and will be removed from pandas in a future version. Use pandas.concat instead.\n",
      "  main_df = main_df.append(df)\n",
      "C:\\Users\\sulay\\AppData\\Local\\Temp\\ipykernel_22456\\894811596.py:9: FutureWarning: The frame.append method is deprecated and will be removed from pandas in a future version. Use pandas.concat instead.\n",
      "  main_df = main_df.append(df)\n",
      "C:\\Users\\sulay\\AppData\\Local\\Temp\\ipykernel_22456\\894811596.py:9: FutureWarning: The frame.append method is deprecated and will be removed from pandas in a future version. Use pandas.concat instead.\n",
      "  main_df = main_df.append(df)\n",
      "C:\\Users\\sulay\\AppData\\Local\\Temp\\ipykernel_22456\\894811596.py:9: FutureWarning: The frame.append method is deprecated and will be removed from pandas in a future version. Use pandas.concat instead.\n",
      "  main_df = main_df.append(df)\n",
      "C:\\Users\\sulay\\AppData\\Local\\Temp\\ipykernel_22456\\894811596.py:9: FutureWarning: The frame.append method is deprecated and will be removed from pandas in a future version. Use pandas.concat instead.\n",
      "  main_df = main_df.append(df)\n",
      "C:\\Users\\sulay\\AppData\\Local\\Temp\\ipykernel_22456\\894811596.py:9: FutureWarning: The frame.append method is deprecated and will be removed from pandas in a future version. Use pandas.concat instead.\n",
      "  main_df = main_df.append(df)\n",
      "c:\\Users\\sulay\\anaconda3\\lib\\site-packages\\openpyxl\\styles\\stylesheet.py:226: UserWarning: Workbook contains no default style, apply openpyxl's default\n",
      "  warn(\"Workbook contains no default style, apply openpyxl's default\")\n",
      "C:\\Users\\sulay\\AppData\\Local\\Temp\\ipykernel_22456\\894811596.py:9: FutureWarning: The frame.append method is deprecated and will be removed from pandas in a future version. Use pandas.concat instead.\n",
      "  main_df = main_df.append(df)\n",
      "C:\\Users\\sulay\\AppData\\Local\\Temp\\ipykernel_22456\\894811596.py:9: FutureWarning: The frame.append method is deprecated and will be removed from pandas in a future version. Use pandas.concat instead.\n",
      "  main_df = main_df.append(df)\n",
      "C:\\Users\\sulay\\AppData\\Local\\Temp\\ipykernel_22456\\894811596.py:9: FutureWarning: The frame.append method is deprecated and will be removed from pandas in a future version. Use pandas.concat instead.\n",
      "  main_df = main_df.append(df)\n",
      "c:\\Users\\sulay\\anaconda3\\lib\\site-packages\\openpyxl\\styles\\stylesheet.py:226: UserWarning: Workbook contains no default style, apply openpyxl's default\n",
      "  warn(\"Workbook contains no default style, apply openpyxl's default\")\n",
      "C:\\Users\\sulay\\AppData\\Local\\Temp\\ipykernel_22456\\894811596.py:9: FutureWarning: The frame.append method is deprecated and will be removed from pandas in a future version. Use pandas.concat instead.\n",
      "  main_df = main_df.append(df)\n",
      "C:\\Users\\sulay\\AppData\\Local\\Temp\\ipykernel_22456\\894811596.py:9: FutureWarning: The frame.append method is deprecated and will be removed from pandas in a future version. Use pandas.concat instead.\n",
      "  main_df = main_df.append(df)\n",
      "C:\\Users\\sulay\\AppData\\Local\\Temp\\ipykernel_22456\\894811596.py:9: FutureWarning: The frame.append method is deprecated and will be removed from pandas in a future version. Use pandas.concat instead.\n",
      "  main_df = main_df.append(df)\n",
      "C:\\Users\\sulay\\AppData\\Local\\Temp\\ipykernel_22456\\894811596.py:9: FutureWarning: The frame.append method is deprecated and will be removed from pandas in a future version. Use pandas.concat instead.\n",
      "  main_df = main_df.append(df)\n",
      "c:\\Users\\sulay\\anaconda3\\lib\\site-packages\\openpyxl\\styles\\stylesheet.py:226: UserWarning: Workbook contains no default style, apply openpyxl's default\n",
      "  warn(\"Workbook contains no default style, apply openpyxl's default\")\n",
      "C:\\Users\\sulay\\AppData\\Local\\Temp\\ipykernel_22456\\894811596.py:9: FutureWarning: The frame.append method is deprecated and will be removed from pandas in a future version. Use pandas.concat instead.\n",
      "  main_df = main_df.append(df)\n",
      "c:\\Users\\sulay\\anaconda3\\lib\\site-packages\\openpyxl\\styles\\stylesheet.py:226: UserWarning: Workbook contains no default style, apply openpyxl's default\n",
      "  warn(\"Workbook contains no default style, apply openpyxl's default\")\n",
      "C:\\Users\\sulay\\AppData\\Local\\Temp\\ipykernel_22456\\894811596.py:9: FutureWarning: The frame.append method is deprecated and will be removed from pandas in a future version. Use pandas.concat instead.\n",
      "  main_df = main_df.append(df)\n",
      "C:\\Users\\sulay\\AppData\\Local\\Temp\\ipykernel_22456\\894811596.py:9: FutureWarning: The frame.append method is deprecated and will be removed from pandas in a future version. Use pandas.concat instead.\n",
      "  main_df = main_df.append(df)\n",
      "C:\\Users\\sulay\\AppData\\Local\\Temp\\ipykernel_22456\\894811596.py:9: FutureWarning: The frame.append method is deprecated and will be removed from pandas in a future version. Use pandas.concat instead.\n",
      "  main_df = main_df.append(df)\n",
      "C:\\Users\\sulay\\AppData\\Local\\Temp\\ipykernel_22456\\894811596.py:9: FutureWarning: The frame.append method is deprecated and will be removed from pandas in a future version. Use pandas.concat instead.\n",
      "  main_df = main_df.append(df)\n",
      "C:\\Users\\sulay\\AppData\\Local\\Temp\\ipykernel_22456\\894811596.py:9: FutureWarning: The frame.append method is deprecated and will be removed from pandas in a future version. Use pandas.concat instead.\n",
      "  main_df = main_df.append(df)\n",
      "C:\\Users\\sulay\\AppData\\Local\\Temp\\ipykernel_22456\\894811596.py:9: FutureWarning: The frame.append method is deprecated and will be removed from pandas in a future version. Use pandas.concat instead.\n",
      "  main_df = main_df.append(df)\n",
      "C:\\Users\\sulay\\AppData\\Local\\Temp\\ipykernel_22456\\894811596.py:9: FutureWarning: The frame.append method is deprecated and will be removed from pandas in a future version. Use pandas.concat instead.\n",
      "  main_df = main_df.append(df)\n",
      "c:\\Users\\sulay\\anaconda3\\lib\\site-packages\\openpyxl\\styles\\stylesheet.py:226: UserWarning: Workbook contains no default style, apply openpyxl's default\n",
      "  warn(\"Workbook contains no default style, apply openpyxl's default\")\n",
      "C:\\Users\\sulay\\AppData\\Local\\Temp\\ipykernel_22456\\894811596.py:9: FutureWarning: The frame.append method is deprecated and will be removed from pandas in a future version. Use pandas.concat instead.\n",
      "  main_df = main_df.append(df)\n",
      "C:\\Users\\sulay\\AppData\\Local\\Temp\\ipykernel_22456\\894811596.py:9: FutureWarning: The frame.append method is deprecated and will be removed from pandas in a future version. Use pandas.concat instead.\n",
      "  main_df = main_df.append(df)\n",
      "c:\\Users\\sulay\\anaconda3\\lib\\site-packages\\openpyxl\\styles\\stylesheet.py:226: UserWarning: Workbook contains no default style, apply openpyxl's default\n",
      "  warn(\"Workbook contains no default style, apply openpyxl's default\")\n",
      "C:\\Users\\sulay\\AppData\\Local\\Temp\\ipykernel_22456\\894811596.py:9: FutureWarning: The frame.append method is deprecated and will be removed from pandas in a future version. Use pandas.concat instead.\n",
      "  main_df = main_df.append(df)\n",
      "C:\\Users\\sulay\\AppData\\Local\\Temp\\ipykernel_22456\\894811596.py:9: FutureWarning: The frame.append method is deprecated and will be removed from pandas in a future version. Use pandas.concat instead.\n",
      "  main_df = main_df.append(df)\n"
     ]
    },
    {
     "name": "stdout",
     "output_type": "stream",
     "text": [
      "File rg0.csv is saved on Edited_Data\\Tagoloan\\rg0.csv.\n"
     ]
    },
    {
     "name": "stderr",
     "output_type": "stream",
     "text": [
      "c:\\Users\\sulay\\anaconda3\\lib\\site-packages\\openpyxl\\styles\\stylesheet.py:226: UserWarning: Workbook contains no default style, apply openpyxl's default\n",
      "  warn(\"Workbook contains no default style, apply openpyxl's default\")\n",
      "C:\\Users\\sulay\\AppData\\Local\\Temp\\ipykernel_22456\\894811596.py:9: FutureWarning: The frame.append method is deprecated and will be removed from pandas in a future version. Use pandas.concat instead.\n",
      "  main_df = main_df.append(df)\n",
      "C:\\Users\\sulay\\AppData\\Local\\Temp\\ipykernel_22456\\894811596.py:9: FutureWarning: The frame.append method is deprecated and will be removed from pandas in a future version. Use pandas.concat instead.\n",
      "  main_df = main_df.append(df)\n",
      "c:\\Users\\sulay\\anaconda3\\lib\\site-packages\\openpyxl\\styles\\stylesheet.py:226: UserWarning: Workbook contains no default style, apply openpyxl's default\n",
      "  warn(\"Workbook contains no default style, apply openpyxl's default\")\n",
      "C:\\Users\\sulay\\AppData\\Local\\Temp\\ipykernel_22456\\894811596.py:9: FutureWarning: The frame.append method is deprecated and will be removed from pandas in a future version. Use pandas.concat instead.\n",
      "  main_df = main_df.append(df)\n",
      "C:\\Users\\sulay\\AppData\\Local\\Temp\\ipykernel_22456\\894811596.py:9: FutureWarning: The frame.append method is deprecated and will be removed from pandas in a future version. Use pandas.concat instead.\n",
      "  main_df = main_df.append(df)\n"
     ]
    },
    {
     "name": "stdout",
     "output_type": "stream",
     "text": [
      "File tag.csv is saved on Edited_Data\\Tagoloan\\tag.csv.\n"
     ]
    },
    {
     "name": "stderr",
     "output_type": "stream",
     "text": [
      "C:\\Users\\sulay\\AppData\\Local\\Temp\\ipykernel_22456\\894811596.py:9: FutureWarning: The frame.append method is deprecated and will be removed from pandas in a future version. Use pandas.concat instead.\n",
      "  main_df = main_df.append(df)\n"
     ]
    },
    {
     "name": "stdout",
     "output_type": "stream",
     "text": [
      "File rg1.csv is saved on Edited_Data\\Tagoloan\\rg1.csv.\n",
      "All processes finished and ended\n"
     ]
    }
   ],
   "source": [
    "try:\n",
    "    try_again = 1\n",
    "    while try_again == 1:\n",
    "        def clean_init(properties, keys, num):\n",
    "            \n",
    "            threads = []\n",
    "            for lst in properties[keys[num]]:\n",
    "                t=threading.Thread(target=cleaned_df, args=[lst[0],lst[1],lst[2]])\n",
    "                t.start()\n",
    "                threads.append(t)\n",
    "            for thread in threads:\n",
    "                thread.join()\n",
    "\n",
    "        keys=[]\n",
    "        for index, val in enumerate(properties):\n",
    "            print(f'{index}:{val}')\n",
    "            keys.append(val)\n",
    "\n",
    "        num = int(input('\\n\\nSelect River:'))\n",
    "        clean_init(properties, keys, num)\n",
    "        try_again = int(input(r\"Do you want to run process again? (1 for Yes, 0 for No)\"))\n",
    "        if try_again == 0:\n",
    "            break\n",
    "except Exception as e :\n",
    "    print(e)\n",
    "print('All processes finished and ended')"
   ]
  }
 ],
 "metadata": {
  "kernelspec": {
   "display_name": "Python 3.9.7 ('base')",
   "language": "python",
   "name": "python3"
  },
  "language_info": {
   "codemirror_mode": {
    "name": "ipython",
    "version": 3
   },
   "file_extension": ".py",
   "mimetype": "text/x-python",
   "name": "python",
   "nbconvert_exporter": "python",
   "pygments_lexer": "ipython3",
   "version": "3.9.7"
  },
  "vscode": {
   "interpreter": {
    "hash": "7c031526a147983fdb0109eb28e11d0d68b68b2c0484cebf386ea03e1a29d4e7"
   }
  }
 },
 "nbformat": 4,
 "nbformat_minor": 4
}
