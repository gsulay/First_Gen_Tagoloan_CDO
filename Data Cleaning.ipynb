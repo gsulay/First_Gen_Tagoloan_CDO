{
 "cells": [
  {
   "cell_type": "code",
   "execution_count": 1,
   "metadata": {},
   "outputs": [],
   "source": [
    "import numpy as np\n",
    "import pandas as pd\n",
    "import os, sys"
   ]
  },
  {
   "cell_type": "code",
   "execution_count": 2,
   "metadata": {},
   "outputs": [],
   "source": [
    "#please change path and suffix, function does not work will fix later\n",
    "#creates a database of each xlsx sheet in specified and lists names in dbs_list\n",
    "\n",
    "path=\"TAG\"\n",
    "suffix=\"tag\"\n",
    "file_dir= os.listdir(path)\n",
    "\n",
    "all_tag=[]\n",
    "for i in file_dir:\n",
    "        all_tag.append(i)\n",
    "dbs_list = []\n",
    "programs_list=[]\n",
    "count=0\n",
    "for i in all_tag:\n",
    "    direc=path+'\\\\'+i\n",
    "        \n",
    "    program=f'{suffix}_db{count} = pd.read_excel(\"{direc}\")'\n",
    "    exec(f'global {suffix}_db{count}')\n",
    "\n",
    "        \n",
    "    dbs_list.append(f'{suffix}_db{count}')\n",
    "    programs_list.append(program)\n",
    "    count += 1\n",
    "    \n",
    "for i in programs_list:\n",
    "    exec(i)"
   ]
  },
  {
   "cell_type": "code",
   "execution_count": 3,
   "metadata": {},
   "outputs": [],
   "source": [
    "#function that returns all databases found in dbs_list into one large\n",
    "def dbs_append(lists):\n",
    "    main_table=eval(lists[0])\n",
    "    for i in dbs_list[1:]:\n",
    "        main_table=main_table.append(eval(i))\n",
    "    return main_table"
   ]
  },
  {
   "cell_type": "markdown",
   "metadata": {},
   "source": [
    "Water Level Analysis"
   ]
  },
  {
   "cell_type": "code",
   "execution_count": 4,
   "metadata": {},
   "outputs": [],
   "source": [
    "tag_dbs=dbs_list\n",
    "tag= dbs_append(tag_dbs)\n",
    "tag.to_csv('Edited_Data/tag.csv')\n"
   ]
  },
  {
   "cell_type": "markdown",
   "metadata": {},
   "source": [
    "Rain Gauge 1"
   ]
  },
  {
   "cell_type": "code",
   "execution_count": 5,
   "metadata": {},
   "outputs": [],
   "source": [
    "#please change path and suffix, function does not work will fix later\n",
    "#creates a database of each xlsx sheet in specified and lists names in dbs_list\n",
    "\n",
    "path=\"Rain Gauge/Rain Gauge 1\"\n",
    "suffix=\"rg1\"\n",
    "\n",
    "file_dir= os.listdir(path)\n",
    "\n",
    "all_tag=[]\n",
    "for i in file_dir:\n",
    "        all_tag.append(i)\n",
    "\n",
    "dbs_list = []\n",
    "programs_list=[]\n",
    "count=0\n",
    "for i in all_tag:\n",
    "    direc=path+'\\\\'+i\n",
    "        \n",
    "    program=f'{suffix}_db{count} = pd.read_excel(\"{direc}\")'\n",
    "    exec(f'global {suffix}_db{count}')\n",
    "\n",
    "        \n",
    "    dbs_list.append(f'{suffix}_db{count}')\n",
    "    programs_list.append(program)\n",
    "    count += 1\n",
    "    \n",
    "for i in programs_list:\n",
    "    exec(i)"
   ]
  },
  {
   "cell_type": "code",
   "execution_count": 6,
   "metadata": {},
   "outputs": [],
   "source": [
    "rg1_dbs=dbs_list\n",
    "rg1=dbs_append(rg1_dbs)\n",
    "rg1.to_csv('Edited_Data/rg0.csv')"
   ]
  },
  {
   "cell_type": "code",
   "execution_count": 7,
   "metadata": {},
   "outputs": [],
   "source": [
    "#please change path and suffix, function does not work will fix later (please make a function for the love of god)\n",
    "#creates a database of each xlsx sheet in specified and lists names in dbs_list\n",
    "\n",
    "path=\"Rain Gauge/Rain Gauge 2\"\n",
    "suffix=\"rg2\"\n",
    "file_dir= os.listdir(path)\n",
    "\n",
    "all_tag=[]\n",
    "for i in file_dir:\n",
    "        all_tag.append(i)\n",
    "\n",
    "dbs_list = []\n",
    "programs_list=[]\n",
    "count=0\n",
    "for i in all_tag:\n",
    "    direc=path+'\\\\'+i\n",
    "        \n",
    "    program=f'{suffix}_db{count} = pd.read_excel(\"{direc}\")'\n",
    "\n",
    "        \n",
    "    dbs_list.append(f'{suffix}_db{count}')\n",
    "    programs_list.append(program)\n",
    "    count += 1\n",
    "    \n",
    "for i in programs_list:\n",
    "    exec(f'{global i.split('=')[0]}')\n",
    "    exec(i)"
   ]
  },
  {
   "cell_type": "code",
   "execution_count": 8,
   "metadata": {},
   "outputs": [],
   "source": [
    "rg2_dbs=dbs_list\n",
    "rg2=dbs_append(rg2_dbs)\n",
    "rg2.to_csv('Edited_Data/rg1.csv')"
   ]
  },
  {
   "cell_type": "code",
   "execution_count": 27,
   "metadata": {},
   "outputs": [
    {
     "ename": "NameError",
     "evalue": "name 'tag_db0' is not defined",
     "output_type": "error",
     "traceback": [
      "\u001b[1;31m---------------------------------------------------------------------------\u001b[0m",
      "\u001b[1;31mNameError\u001b[0m                                 Traceback (most recent call last)",
      "\u001b[1;32m<ipython-input-27-4e71acabecdd>\u001b[0m in \u001b[0;36m<module>\u001b[1;34m\u001b[0m\n\u001b[0;32m     24\u001b[0m \u001b[1;33m\u001b[0m\u001b[0m\n\u001b[0;32m     25\u001b[0m     \u001b[1;32mreturn\u001b[0m \u001b[0mdbs_list\u001b[0m\u001b[1;33m\u001b[0m\u001b[1;33m\u001b[0m\u001b[0m\n\u001b[1;32m---> 26\u001b[1;33m \u001b[0mx\u001b[0m\u001b[1;33m=\u001b[0m\u001b[0mdbs_maker\u001b[0m\u001b[1;33m(\u001b[0m\u001b[0mpath\u001b[0m\u001b[1;33m=\u001b[0m\u001b[1;34m'TAG'\u001b[0m\u001b[1;33m,\u001b[0m\u001b[0msuffix\u001b[0m\u001b[1;33m=\u001b[0m\u001b[1;34m'tag'\u001b[0m\u001b[1;33m)\u001b[0m\u001b[1;33m\u001b[0m\u001b[1;33m\u001b[0m\u001b[0m\n\u001b[0m",
      "\u001b[1;32m<ipython-input-27-4e71acabecdd>\u001b[0m in \u001b[0;36mdbs_maker\u001b[1;34m(path, suffix)\u001b[0m\n\u001b[0;32m     20\u001b[0m     \u001b[1;32mfor\u001b[0m \u001b[0mi\u001b[0m \u001b[1;32min\u001b[0m \u001b[0mprograms_list\u001b[0m\u001b[1;33m:\u001b[0m\u001b[1;33m\u001b[0m\u001b[1;33m\u001b[0m\u001b[0m\n\u001b[0;32m     21\u001b[0m         \u001b[0mvariable\u001b[0m\u001b[1;33m=\u001b[0m\u001b[0mi\u001b[0m\u001b[1;33m.\u001b[0m\u001b[0msplit\u001b[0m\u001b[1;33m(\u001b[0m\u001b[1;34m'='\u001b[0m\u001b[1;33m)\u001b[0m\u001b[1;33m[\u001b[0m\u001b[1;36m0\u001b[0m\u001b[1;33m]\u001b[0m\u001b[1;33m\u001b[0m\u001b[1;33m\u001b[0m\u001b[0m\n\u001b[1;32m---> 22\u001b[1;33m         \u001b[0mexec\u001b[0m\u001b[1;33m(\u001b[0m\u001b[1;34mf'''global {exec(variable)}'''\u001b[0m\u001b[1;33m)\u001b[0m\u001b[1;33m\u001b[0m\u001b[1;33m\u001b[0m\u001b[0m\n\u001b[0m\u001b[0;32m     23\u001b[0m         \u001b[0mexec\u001b[0m\u001b[1;33m(\u001b[0m\u001b[0mi\u001b[0m\u001b[1;33m)\u001b[0m\u001b[1;33m\u001b[0m\u001b[1;33m\u001b[0m\u001b[0m\n\u001b[0;32m     24\u001b[0m \u001b[1;33m\u001b[0m\u001b[0m\n",
      "\u001b[1;32m<string>\u001b[0m in \u001b[0;36m<module>\u001b[1;34m\u001b[0m\n",
      "\u001b[1;31mNameError\u001b[0m: name 'tag_db0' is not defined"
     ]
    }
   ],
   "source": [
    "def dbs_maker(path, suffix):\n",
    "    file_dir= os.listdir(path)\n",
    "\n",
    "    all_tag=[]\n",
    "    for i in file_dir:\n",
    "            all_tag.append(i)\n",
    "\n",
    "    dbs_list = []\n",
    "    programs_list=[]\n",
    "    count=0\n",
    "    for i in all_tag:\n",
    "        direc=path+'\\\\'+i\n",
    "\n",
    "        program=f'{suffix}_db{count} = pd.read_excel(\"{direc}\")'\n",
    "\n",
    "        dbs_list.append(f'{suffix}_db{count}')\n",
    "        programs_list.append(program)\n",
    "        count += 1\n",
    "\n",
    "    for i in programs_list:\n",
    "        variable=i.split('=')[0]\n",
    "        exec(f'''global {exec\n",
    "(variable)}''')\n",
    "        exec(i)\n",
    "\n",
    "    return dbs_list\n",
    "x=dbs_maker(path='TAG',suffix='tag')"
   ]
  },
  {
   "cell_type": "code",
   "execution_count": 23,
   "metadata": {},
   "outputs": [
    {
     "ename": "NameError",
     "evalue": "name 'tag_db0' is not defined",
     "output_type": "error",
     "traceback": [
      "\u001b[1;31m---------------------------------------------------------------------------\u001b[0m",
      "\u001b[1;31mNameError\u001b[0m                                 Traceback (most recent call last)",
      "\u001b[1;32m<ipython-input-23-006c10711b03>\u001b[0m in \u001b[0;36m<module>\u001b[1;34m\u001b[0m\n\u001b[1;32m----> 1\u001b[1;33m \u001b[0mtag_db0\u001b[0m\u001b[1;33m\u001b[0m\u001b[1;33m\u001b[0m\u001b[0m\n\u001b[0m",
      "\u001b[1;31mNameError\u001b[0m: name 'tag_db0' is not defined"
     ]
    }
   ],
   "source": [
    "tag_db0"
   ]
  },
  {
   "cell_type": "code",
   "execution_count": 20,
   "metadata": {},
   "outputs": [
    {
     "data": {
      "text/plain": [
       "['__name__',\n",
       " '__doc__',\n",
       " '__package__',\n",
       " '__loader__',\n",
       " '__spec__',\n",
       " '__builtin__',\n",
       " '__builtins__',\n",
       " '_ih',\n",
       " '_oh',\n",
       " '_dh',\n",
       " 'In',\n",
       " 'Out',\n",
       " 'get_ipython',\n",
       " 'exit',\n",
       " 'quit',\n",
       " '_',\n",
       " '__',\n",
       " '___',\n",
       " '_i',\n",
       " '_ii',\n",
       " '_iii',\n",
       " '_i1',\n",
       " 'np',\n",
       " 'pd',\n",
       " 'os',\n",
       " 'sys',\n",
       " '_i2',\n",
       " '_i3',\n",
       " 'dbs_maker',\n",
       " 'x',\n",
       " '_i4',\n",
       " '_4',\n",
       " '_i5',\n",
       " '_i6',\n",
       " '_i7',\n",
       " '_i8',\n",
       " '_i9',\n",
       " '_i10',\n",
       " '_i11',\n",
       " '_i12',\n",
       " '_i13',\n",
       " '_i14',\n",
       " '_i15',\n",
       " '_i16',\n",
       " '_i17',\n",
       " '_i18',\n",
       " '_i19']"
      ]
     },
     "execution_count": 20,
     "metadata": {},
     "output_type": "execute_result"
    }
   ],
   "source": [
    "ey"
   ]
  },
  {
   "cell_type": "code",
   "execution_count": null,
   "metadata": {},
   "outputs": [],
   "source": []
  }
 ],
 "metadata": {
  "kernelspec": {
   "display_name": "Python 3",
   "language": "python",
   "name": "python3"
  },
  "language_info": {
   "codemirror_mode": {
    "name": "ipython",
    "version": 3
   },
   "file_extension": ".py",
   "mimetype": "text/x-python",
   "name": "python",
   "nbconvert_exporter": "python",
   "pygments_lexer": "ipython3",
   "version": "3.8.5"
  }
 },
 "nbformat": 4,
 "nbformat_minor": 4
}
