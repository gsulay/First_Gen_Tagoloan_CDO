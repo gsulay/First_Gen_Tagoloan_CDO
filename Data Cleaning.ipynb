{
 "cells": [
  {
   "cell_type": "code",
   "execution_count": 1,
   "metadata": {},
   "outputs": [],
   "source": [
    "import numpy as np\n",
    "import pandas as pd\n",
    "import os, sys"
   ]
  },
  {
   "cell_type": "code",
   "execution_count": 2,
   "metadata": {},
   "outputs": [],
   "source": [
    "path=\"TAG\"\n",
    "suffix=\"tag\"\n",
    "file_dir= os.listdir(path)\n",
    "\n",
    "all_tag=[]\n",
    "for i in file_dir:\n",
    "        all_tag.append(i)\n",
    "\n",
    "dbs_list = []\n",
    "programs_list=[]\n",
    "count=0\n",
    "for i in all_tag:\n",
    "    direc=path+'\\\\'+i\n",
    "        \n",
    "    program=f'{suffix}_db{count} = pd.read_excel(\"{direc}\")'\n",
    "    exec(f'global {suffix}_db{count}')\n",
    "\n",
    "        \n",
    "    dbs_list.append(f'{suffix}_db{count}')\n",
    "    programs_list.append(program)\n",
    "    count += 1\n",
    "    \n",
    "for i in programs_list:\n",
    "    exec(i)\n",
    "\n",
    "\n",
    "def dbs_append(lists):\n",
    "    main_table=eval(lists[0])\n",
    "    for i in dbs_list[1:]:\n",
    "        main_table=main_table.append(eval(i))\n",
    "    return main_table"
   ]
  },
  {
   "cell_type": "markdown",
   "metadata": {},
   "source": [
    "Water Level Analysis"
   ]
  },
  {
   "cell_type": "code",
   "execution_count": 3,
   "metadata": {},
   "outputs": [],
   "source": [
    "tag_dbs=dbs_list\n",
    "tag= dbs_append(tag_dbs)\n",
    "tag.to_csv('Edited_Data/tag.csv')\n"
   ]
  },
  {
   "cell_type": "code",
   "execution_count": 4,
   "metadata": {},
   "outputs": [],
   "source": [
    "path=\"Rain Gauge/Rain Gauge 1\"\n",
    "suffix=\"rg1\"\n",
    "file_dir= os.listdir(path)\n",
    "\n",
    "all_tag=[]\n",
    "for i in file_dir:\n",
    "        all_tag.append(i)\n",
    "\n",
    "dbs_list = []\n",
    "programs_list=[]\n",
    "count=0\n",
    "for i in all_tag:\n",
    "    direc=path+'\\\\'+i\n",
    "        \n",
    "    program=f'{suffix}_db{count} = pd.read_excel(\"{direc}\")'\n",
    "    exec(f'global {suffix}_db{count}')\n",
    "\n",
    "        \n",
    "    dbs_list.append(f'{suffix}_db{count}')\n",
    "    programs_list.append(program)\n",
    "    count += 1\n",
    "    \n",
    "for i in programs_list:\n",
    "    exec(i)"
   ]
  },
  {
   "cell_type": "markdown",
   "metadata": {},
   "source": [
    "Rain Gauge 1"
   ]
  },
  {
   "cell_type": "code",
   "execution_count": 5,
   "metadata": {},
   "outputs": [],
   "source": [
    "rg1_dbs=dbs_list\n",
    "rg1=dbs_append(rg1_dbs)\n",
    "rg1.to_csv('Edited_Data/rg1.csv')"
   ]
  },
  {
   "cell_type": "code",
   "execution_count": 6,
   "metadata": {},
   "outputs": [],
   "source": [
    "path=\"Rain Gauge/Rain Gauge 2\"\n",
    "suffix=\"rg2\"\n",
    "file_dir= os.listdir(path)\n",
    "\n",
    "all_tag=[]\n",
    "for i in file_dir:\n",
    "        all_tag.append(i)\n",
    "\n",
    "dbs_list = []\n",
    "programs_list=[]\n",
    "count=0\n",
    "for i in all_tag:\n",
    "    direc=path+'\\\\'+i\n",
    "        \n",
    "    program=f'{suffix}_db{count} = pd.read_excel(\"{direc}\")'\n",
    "    exec(f'global {suffix}_db{count}')\n",
    "\n",
    "        \n",
    "    dbs_list.append(f'{suffix}_db{count}')\n",
    "    programs_list.append(program)\n",
    "    count += 1\n",
    "    \n",
    "for i in programs_list:\n",
    "    exec(i)"
   ]
  },
  {
   "cell_type": "code",
   "execution_count": 7,
   "metadata": {},
   "outputs": [],
   "source": [
    "rg2_dbs=dbs_list\n",
    "rg2=dbs_append(rg2_dbs)\n",
    "rg2.to_csv('Edited_Data/rg2.csv')"
   ]
  }
 ],
 "metadata": {
  "kernelspec": {
   "display_name": "Python 3",
   "language": "python",
   "name": "python3"
  },
  "language_info": {
   "codemirror_mode": {
    "name": "ipython",
    "version": 3
   },
   "file_extension": ".py",
   "mimetype": "text/x-python",
   "name": "python",
   "nbconvert_exporter": "python",
   "pygments_lexer": "ipython3",
   "version": "3.8.5"
  }
 },
 "nbformat": 4,
 "nbformat_minor": 4
}
