{
 "cells": [
  {
   "cell_type": "code",
   "execution_count": 1,
   "metadata": {},
   "outputs": [],
   "source": [
    "import numpy as np\n",
    "import pandas as pd\n",
    "import re\n",
    "\n",
    "__author__ = \"Gifrey John M. Sulay\"\n",
    "__copyright__ = \"Xavier University - Engineering Resource Center\""
   ]
  },
  {
   "cell_type": "code",
   "execution_count": 2,
   "metadata": {},
   "outputs": [],
   "source": [
    "#open data\n",
    "tag=pd.read_csv('Edited_Data/tag.csv')\n",
    "rg1=pd.read_csv('Edited_Data/rg2.csv')\n",
    "rg0=pd.read_csv('Edited_Data/rg1.csv')"
   ]
  },
  {
   "cell_type": "code",
   "execution_count": 3,
   "metadata": {},
   "outputs": [],
   "source": [
    "#filter data\n",
    "tag_f=tag[['Timestamp','Sensor Value']]\n",
    "rg0_f=rg0[['Timestamp','Sensor Value']]\n",
    "rg1_f=rg1[['Timestamp','Sensor Value']]"
   ]
  },
  {
   "cell_type": "code",
   "execution_count": 4,
   "metadata": {},
   "outputs": [
    {
     "name": "stdout",
     "output_type": "stream",
     "text": [
      "\n"
     ]
    }
   ],
   "source": [
    "#rename Sensor Value\n",
    "tag_f.rename(columns={'Sensor Value':'Water_level_m'})\n",
    "rg0_f.rename(columns={'Sensor Value':'RG_0_mm'})\n",
    "rg1_f.rename(columns={'Sensor Value':'RG_1_mm'})\n",
    "\n",
    "print()"
   ]
  },
  {
   "cell_type": "code",
   "execution_count": 5,
   "metadata": {},
   "outputs": [],
   "source": [
    "#convert timestamp to day month/day/year hour\n",
    "def timestamp_conv(df):\n",
    "    headers=list(df.columns.values)\n",
    "    array=df.to_numpy()\n",
    "    timestamps=array[:,0]\n",
    "    values=array[:,1]\n",
    "    \n",
    "    timestamp_edited =[]\n",
    "    for i in timestamps:\n",
    "        timestamp=i.split()\n",
    "        date=timestamp[0]\n",
    "        time=timestamp[1]\n",
    "        hms=time.split(':')\n",
    "        \n",
    "        if len(timestamp)==3:\n",
    "            morn_aft=timestamp[2]\n",
    "            if int(hms[0])==12 and morn_aft=='AM':\n",
    "                hour=0\n",
    "            elif int(hms[0])==12 and morn_aft=='PM':\n",
    "                hour=12\n",
    "            elif morn_aft=='PM':\n",
    "                hour=int(hms[0])+12\n",
    "            elif morn_aft=='AM':\n",
    "                hour=int(hms[0])\n",
    "\n",
    "        if len(timestamp)==2:\n",
    "            hour=int(hms[0])\n",
    "        #reorganized timestamp to y/m/d\n",
    "        date_split=date.split('/')\n",
    "        month=date_split[0]\n",
    "        day=date_split[1]\n",
    "        year=date_split[2]\n",
    "        reorganized_date=f\"{year}/{month}/{day}\"\n",
    "\n",
    "        new_timestamp=f\"{reorganized_date} {hour}\"\n",
    "        timestamp_edited.append(new_timestamp)\n",
    "    \n",
    "    timestamp_edited_arr=np.array(timestamp_edited)\n",
    "    \n",
    "    l1=list(timestamp_edited_arr)\n",
    "    l2=list(values)\n",
    "    \n",
    "    new_dataframe=pd.DataFrame({'Timestamp':l1, 'Values':l2})\n",
    "    return new_dataframe\n",
    "\n"
   ]
  },
  {
   "cell_type": "code",
   "execution_count": 6,
   "metadata": {},
   "outputs": [],
   "source": [
    "#convert timestamps\n",
    "tag_n=timestamp_conv(tag_f)\n",
    "rg0_n=timestamp_conv(rg0_f)\n",
    "rg1_n=timestamp_conv(rg1_f)"
   ]
  },
  {
   "cell_type": "code",
   "execution_count": 7,
   "metadata": {},
   "outputs": [
    {
     "name": "stdout",
     "output_type": "stream",
     "text": [
      "8761\n"
     ]
    }
   ],
   "source": [
    "#generate timestamp array for timestamp index for dataframe\n",
    "#returns clean_timestamp\n",
    "\n",
    "import datetime\n",
    "x = pd.date_range(start=\"2020-03-01\", end=\"2021-03-01\", freq='H').tolist()\n",
    "clean_timestamp=[]\n",
    "for i in x:\n",
    "    month=i.strftime(\"%m\")\n",
    "    day=i.strftime(\"%d\")\n",
    "    year=i.strftime(\"%Y\")\n",
    "    hour=i.strftime(\"%H\")\n",
    "    \n",
    "    string=f\"{month}/{day}/{year} {hour}\"\n",
    "    clean_timestamp.append(string)\n",
    "print(len(clean_timestamp))"
   ]
  },
  {
   "cell_type": "code",
   "execution_count": null,
   "metadata": {},
   "outputs": [],
   "source": []
  },
  {
   "cell_type": "code",
   "execution_count": null,
   "metadata": {},
   "outputs": [],
   "source": []
  },
  {
   "cell_type": "code",
   "execution_count": null,
   "metadata": {},
   "outputs": [],
   "source": []
  },
  {
   "cell_type": "code",
   "execution_count": 11,
   "metadata": {},
   "outputs": [],
   "source": []
  },
  {
   "cell_type": "code",
   "execution_count": null,
   "metadata": {},
   "outputs": [],
   "source": []
  },
  {
   "cell_type": "code",
   "execution_count": null,
   "metadata": {},
   "outputs": [],
   "source": []
  },
  {
   "cell_type": "code",
   "execution_count": null,
   "metadata": {},
   "outputs": [],
   "source": []
  }
 ],
 "metadata": {
  "kernelspec": {
   "display_name": "Python 3",
   "language": "python",
   "name": "python3"
  },
  "language_info": {
   "codemirror_mode": {
    "name": "ipython",
    "version": 3
   },
   "file_extension": ".py",
   "mimetype": "text/x-python",
   "name": "python",
   "nbconvert_exporter": "python",
   "pygments_lexer": "ipython3",
   "version": "3.8.5"
  }
 },
 "nbformat": 4,
 "nbformat_minor": 4
}
