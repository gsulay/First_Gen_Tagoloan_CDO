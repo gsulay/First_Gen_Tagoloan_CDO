{
 "cells": [
  {
   "cell_type": "code",
   "execution_count": 47,
   "metadata": {},
   "outputs": [],
   "source": [
    "import pandas as pd\n",
    "import numpy as np\n",
    "from pprint import pprint\n",
    "\n",
    "#Hyperparameters\n",
    "a_param = 2.40602424876737\n",
    "b_param = 3.6653\n",
    "\n",
    "#flow = a_param*(water_level*b_param)"
   ]
  },
  {
   "cell_type": "markdown",
   "metadata": {},
   "source": [
    "### Select which file/s to create a rating curve\n",
    "User should select which reports to create a rating curve from.\n",
    "\n",
    "**Note:** The rating curve can only be made from completed reports."
   ]
  },
  {
   "cell_type": "code",
   "execution_count": 48,
   "metadata": {},
   "outputs": [],
   "source": [
    "import os\n",
    "from pathlib2 import Path\n",
    "\n",
    "def get_all_dir(par_dict):\n",
    "    par_dict = Path(par_dict)\n",
    "    all_dirs_and_files = os.listdir(par_dict)\n",
    "    all_dirs = []\n",
    "    \n",
    "    for i in all_dirs_and_files:\n",
    "        full_path = os.path.join(par_dict,i)\n",
    "        if os.path.isdir(full_path):\n",
    "            all_dirs.append(full_path)\n",
    "    \n",
    "    return all_dirs\n",
    "\n",
    "def get_report_xl(dir):\n",
    "    all_files = os.listdir(dir)\n",
    "    for file in all_files:\n",
    "        if file.split(' ')[-1] == 'Report.xlsx':\n",
    "            full_file = os.path.join(dir,file)\n",
    "            break\n",
    "    if len(full_file) == 0:\n",
    "        raise ValueError\n",
    "    \n",
    "    return full_file\n"
   ]
  },
  {
   "cell_type": "code",
   "execution_count": 49,
   "metadata": {},
   "outputs": [
    {
     "name": "stdout",
     "output_type": "stream",
     "text": [
      "Select Report from list below\n",
      "0: Cleaned_Tagoloan\\20210109_20210110 Report\n",
      "\n",
      "\n",
      "Successfully selected report/s. The selected reports are...\n",
      "'Cleaned_Tagoloan\\\\20210109_20210110 Report\\\\20210109_20210110 Report.xlsx'\n"
     ]
    }
   ],
   "source": [
    "def select_a_file(river):\n",
    "    print('Select Report from list below')\n",
    "    all_dir = get_all_dir(river)\n",
    "    dir_dict = {}\n",
    "    count = 0\n",
    "    for dir in all_dir:\n",
    "        dir_dict[count] = dir\n",
    "        count+=1\n",
    "    \n",
    "    for key, val in dir_dict.items():\n",
    "        print(f\"{key}: {val}\")\n",
    "    \n",
    "    path = int(input(\"Select\"))\n",
    "    # path_lst_str = str(input(\"Select: \"))\n",
    "    # path_lst_str = path_lst_str.split(\",\")\n",
    "    # path_lst_str = [int(i) for i in path_lst_str]\n",
    "    \n",
    "    report_files = get_report_xl(dir_dict[path])\n",
    "    return report_files\n",
    "\n",
    "def select_multiple_files_continuous(river):\n",
    "    print('Select Report from list below(note. Seperate with comma e.g. 1,2,3)')\n",
    "    all_dir = get_all_dir(river)\n",
    "    dir_dict = {}\n",
    "    count = 0\n",
    "    for dir in all_dir:\n",
    "        dir_dict[count] = dir\n",
    "        count+=1\n",
    "    \n",
    "    for key, val in dir_dict.items():\n",
    "        print(f\"{key}: {val}\")\n",
    "    \n",
    "    path_lst_str = str(input(\"Select: \"))\n",
    "    path_lst_str = path_lst_str.split(\",\")\n",
    "    path_lst_str = [dir_dict[int(i)] for i in path_lst_str]\n",
    "    \n",
    "    report_files = [get_report_xl(path) for path in path_lst_str]\n",
    "\n",
    "    return report_files\n",
    "\n",
    "\n",
    "while True:\n",
    "    try:\n",
    "        message = \"Select River \\n0: Cagayan/San Isidro\\n1: Tagoloan\"\n",
    "        which_river = int(input(message))\n",
    "\n",
    "        # if (which_river != 0) | (which_river != 1):\n",
    "        #     raise ValueError\n",
    "            \n",
    "        river_dict = {0: Path(r\"Cleaned_Cagayan\"),\n",
    "                    1: Path(r\"Cleaned_Tagoloan\")}\n",
    "        river = river_dict[which_river]\n",
    "\n",
    "        message = \"\"\"How many reports will you include \\n\n",
    "        1 Report \\n\n",
    "        2/more Reports \\n\"\"\"\n",
    "\n",
    "        no_of_files_condition = int(input(message))\n",
    "\n",
    "        if no_of_files_condition == 1:\n",
    "            report_file = [select_a_file(river)]\n",
    "        elif no_of_files_condition == 2:\n",
    "            report_file = select_multiple_files_continuous(river)\n",
    "        else:\n",
    "            raise ValueError\n",
    "        \n",
    "        print(\"\\n\\nSuccessfully selected report/s. The selected reports are...\")\n",
    "        pprint(report_file)\n",
    "        \n",
    "        break\n",
    "    except ValueError:\n",
    "        print('Wrong value, please try again')"
   ]
  },
  {
   "cell_type": "markdown",
   "metadata": {},
   "source": [
    "### Merge"
   ]
  },
  {
   "cell_type": "code",
   "execution_count": 58,
   "metadata": {},
   "outputs": [
    {
     "data": {
      "text/html": [
       "<div>\n",
       "<style scoped>\n",
       "    .dataframe tbody tr th:only-of-type {\n",
       "        vertical-align: middle;\n",
       "    }\n",
       "\n",
       "    .dataframe tbody tr th {\n",
       "        vertical-align: top;\n",
       "    }\n",
       "\n",
       "    .dataframe thead th {\n",
       "        text-align: right;\n",
       "    }\n",
       "</style>\n",
       "<table border=\"1\" class=\"dataframe\">\n",
       "  <thead>\n",
       "    <tr style=\"text-align: right;\">\n",
       "      <th></th>\n",
       "      <th>Corrected Water Level</th>\n",
       "      <th>Rain Gauge</th>\n",
       "      <th>Flow</th>\n",
       "    </tr>\n",
       "  </thead>\n",
       "  <tbody>\n",
       "    <tr>\n",
       "      <th>0</th>\n",
       "      <td>1.917614</td>\n",
       "      <td>0.0</td>\n",
       "      <td>16.911056</td>\n",
       "    </tr>\n",
       "    <tr>\n",
       "      <th>1</th>\n",
       "      <td>1.917614</td>\n",
       "      <td>0.0</td>\n",
       "      <td>16.911056</td>\n",
       "    </tr>\n",
       "    <tr>\n",
       "      <th>2</th>\n",
       "      <td>1.917614</td>\n",
       "      <td>0.0</td>\n",
       "      <td>16.911056</td>\n",
       "    </tr>\n",
       "    <tr>\n",
       "      <th>3</th>\n",
       "      <td>1.917614</td>\n",
       "      <td>0.0</td>\n",
       "      <td>16.911056</td>\n",
       "    </tr>\n",
       "    <tr>\n",
       "      <th>4</th>\n",
       "      <td>1.917614</td>\n",
       "      <td>0.0</td>\n",
       "      <td>16.911056</td>\n",
       "    </tr>\n",
       "    <tr>\n",
       "      <th>...</th>\n",
       "      <td>...</td>\n",
       "      <td>...</td>\n",
       "      <td>...</td>\n",
       "    </tr>\n",
       "    <tr>\n",
       "      <th>2883</th>\n",
       "      <td>2.061428</td>\n",
       "      <td>0.0</td>\n",
       "      <td>18.179323</td>\n",
       "    </tr>\n",
       "    <tr>\n",
       "      <th>2884</th>\n",
       "      <td>1.989521</td>\n",
       "      <td>0.0</td>\n",
       "      <td>17.545189</td>\n",
       "    </tr>\n",
       "    <tr>\n",
       "      <th>2885</th>\n",
       "      <td>1.989521</td>\n",
       "      <td>0.0</td>\n",
       "      <td>17.545189</td>\n",
       "    </tr>\n",
       "    <tr>\n",
       "      <th>2886</th>\n",
       "      <td>1.989521</td>\n",
       "      <td>0.0</td>\n",
       "      <td>17.545189</td>\n",
       "    </tr>\n",
       "    <tr>\n",
       "      <th>2887</th>\n",
       "      <td>1.989521</td>\n",
       "      <td>0.0</td>\n",
       "      <td>17.545189</td>\n",
       "    </tr>\n",
       "  </tbody>\n",
       "</table>\n",
       "<p>2888 rows × 3 columns</p>\n",
       "</div>"
      ],
      "text/plain": [
       "      Corrected Water Level  Rain Gauge       Flow\n",
       "0                  1.917614         0.0  16.911056\n",
       "1                  1.917614         0.0  16.911056\n",
       "2                  1.917614         0.0  16.911056\n",
       "3                  1.917614         0.0  16.911056\n",
       "4                  1.917614         0.0  16.911056\n",
       "...                     ...         ...        ...\n",
       "2883               2.061428         0.0  18.179323\n",
       "2884               1.989521         0.0  17.545189\n",
       "2885               1.989521         0.0  17.545189\n",
       "2886               1.989521         0.0  17.545189\n",
       "2887               1.989521         0.0  17.545189\n",
       "\n",
       "[2888 rows x 3 columns]"
      ]
     },
     "execution_count": 58,
     "metadata": {},
     "output_type": "execute_result"
    }
   ],
   "source": [
    "all_df = [pd.read_excel(path, index_col=0) for path in report_file]\n",
    "main_df = pd.concat(all_df)\n",
    "\n",
    "if river == river_dict[0]: #if Cagayan\n",
    "    main_df = main_df[['Corrected Water Level', 'Rain Gauge']]\n",
    "\n",
    "if river == river_dict[1]: #if Tagoloan\n",
    "    main_df = main_df[['Corrected Water Level', 'RG0_Diff']]\n",
    "    main_df.columns = ['Corrected Water Level', 'Rain Gauge']\n",
    "\n",
    "water_level = main_df['Corrected Water Level'].to_numpy()\n",
    "\n",
    "flow = a_param*(water_level*b_param)\n",
    "main_df['Flow'] = flow\n",
    "main_df"
   ]
  },
  {
   "cell_type": "code",
   "execution_count": 57,
   "metadata": {},
   "outputs": [
    {
     "data": {
      "text/plain": [
       "<AxesSubplot:>"
      ]
     },
     "execution_count": 57,
     "metadata": {},
     "output_type": "execute_result"
    },
    {
     "data": {
      "image/png": "[encoded data removed]",
      "text/plain": [
       "<Figure size 432x288 with 1 Axes>"
      ]
     },
     "metadata": {
      "needs_background": "light"
     },
     "output_type": "display_data"
    }
   ],
   "source": []
  },
  {
   "cell_type": "code",
   "execution_count": null,
   "metadata": {},
   "outputs": [],
   "source": []
  }
 ],
 "metadata": {
  "kernelspec": {
   "display_name": "Python 3.9.7 ('base')",
   "language": "python",
   "name": "python3"
  },
  "language_info": {
   "codemirror_mode": {
    "name": "ipython",
    "version": 3
   },
   "file_extension": ".py",
   "mimetype": "text/x-python",
   "name": "python",
   "nbconvert_exporter": "python",
   "pygments_lexer": "ipython3",
   "version": "3.9.7"
  },
  "orig_nbformat": 4,
  "vscode": {
   "interpreter": {
    "hash": "7c031526a147983fdb0109eb28e11d0d68b68b2c0484cebf386ea03e1a29d4e7"
   }
  }
 },
 "nbformat": 4,
 "nbformat_minor": 2
}
