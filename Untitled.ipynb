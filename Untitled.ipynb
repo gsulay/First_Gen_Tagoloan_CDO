{
 "cells": [
  {
   "cell_type": "code",
   "execution_count": 2,
   "metadata": {},
   "outputs": [],
   "source": [
    "import numpy as np\n",
    "\n",
    "x = np.arange(1,15,1)"
   ]
  },
  {
   "cell_type": "code",
   "execution_count": 3,
   "metadata": {},
   "outputs": [
    {
     "data": {
      "text/plain": [
       "array([ 1,  2,  3,  4,  5,  6,  7,  8,  9, 10, 11, 12, 13, 14])"
      ]
     },
     "execution_count": 3,
     "metadata": {},
     "output_type": "execute_result"
    }
   ],
   "source": [
    "x"
   ]
  },
  {
   "cell_type": "code",
   "execution_count": 26,
   "metadata": {},
   "outputs": [],
   "source": [
    "import pandas as pd\n",
    "from pathlib import Path\n",
    "tag_path = Path(\"Edited_Data/Cagayan/tag.csv\")\n",
    "tag = pd.read_csv(tag_path)[['Timestamp', 'Sensor Value']]"
   ]
  },
  {
   "cell_type": "code",
   "execution_count": 27,
   "metadata": {},
   "outputs": [
    {
     "data": {
      "text/html": [
       "<div>\n",
       "<style scoped>\n",
       "    .dataframe tbody tr th:only-of-type {\n",
       "        vertical-align: middle;\n",
       "    }\n",
       "\n",
       "    .dataframe tbody tr th {\n",
       "        vertical-align: top;\n",
       "    }\n",
       "\n",
       "    .dataframe thead th {\n",
       "        text-align: right;\n",
       "    }\n",
       "</style>\n",
       "<table border=\"1\" class=\"dataframe\">\n",
       "  <thead>\n",
       "    <tr style=\"text-align: right;\">\n",
       "      <th></th>\n",
       "      <th>Timestamp</th>\n",
       "      <th>Sensor Value</th>\n",
       "      <th>D</th>\n",
       "    </tr>\n",
       "  </thead>\n",
       "  <tbody>\n",
       "    <tr>\n",
       "      <th>0</th>\n",
       "      <td>12/2/2019 12:29:20 AM</td>\n",
       "      <td>0.910916</td>\n",
       "      <td>0</td>\n",
       "    </tr>\n",
       "    <tr>\n",
       "      <th>1</th>\n",
       "      <td>12/2/2019 1:29:23 AM</td>\n",
       "      <td>0.910916</td>\n",
       "      <td>1</td>\n",
       "    </tr>\n",
       "    <tr>\n",
       "      <th>2</th>\n",
       "      <td>12/2/2019 2:30:19 AM</td>\n",
       "      <td>0.886947</td>\n",
       "      <td>2</td>\n",
       "    </tr>\n",
       "    <tr>\n",
       "      <th>3</th>\n",
       "      <td>12/2/2019 3:29:57 AM</td>\n",
       "      <td>0.910916</td>\n",
       "      <td>3</td>\n",
       "    </tr>\n",
       "    <tr>\n",
       "      <th>4</th>\n",
       "      <td>12/2/2019 4:29:26 AM</td>\n",
       "      <td>0.934885</td>\n",
       "      <td>4</td>\n",
       "    </tr>\n",
       "    <tr>\n",
       "      <th>...</th>\n",
       "      <td>...</td>\n",
       "      <td>...</td>\n",
       "      <td>...</td>\n",
       "    </tr>\n",
       "    <tr>\n",
       "      <th>14937</th>\n",
       "      <td>1/1/2022 10:28:42 AM</td>\n",
       "      <td>0.982823</td>\n",
       "      <td>14937</td>\n",
       "    </tr>\n",
       "    <tr>\n",
       "      <th>14938</th>\n",
       "      <td>1/1/2022 11:31:29 AM</td>\n",
       "      <td>0.982823</td>\n",
       "      <td>14938</td>\n",
       "    </tr>\n",
       "    <tr>\n",
       "      <th>14939</th>\n",
       "      <td>1/1/2022 12:29:57 PM</td>\n",
       "      <td>0.982823</td>\n",
       "      <td>14939</td>\n",
       "    </tr>\n",
       "    <tr>\n",
       "      <th>14940</th>\n",
       "      <td>1/1/2022 1:28:35 PM</td>\n",
       "      <td>0.982823</td>\n",
       "      <td>14940</td>\n",
       "    </tr>\n",
       "    <tr>\n",
       "      <th>14941</th>\n",
       "      <td>1/1/2022 2:34:39 PM</td>\n",
       "      <td>0.982823</td>\n",
       "      <td>14941</td>\n",
       "    </tr>\n",
       "  </tbody>\n",
       "</table>\n",
       "<p>14942 rows × 3 columns</p>\n",
       "</div>"
      ],
      "text/plain": [
       "                   Timestamp  Sensor Value      D\n",
       "0      12/2/2019 12:29:20 AM      0.910916      0\n",
       "1       12/2/2019 1:29:23 AM      0.910916      1\n",
       "2       12/2/2019 2:30:19 AM      0.886947      2\n",
       "3       12/2/2019 3:29:57 AM      0.910916      3\n",
       "4       12/2/2019 4:29:26 AM      0.934885      4\n",
       "...                      ...           ...    ...\n",
       "14937   1/1/2022 10:28:42 AM      0.982823  14937\n",
       "14938   1/1/2022 11:31:29 AM      0.982823  14938\n",
       "14939   1/1/2022 12:29:57 PM      0.982823  14939\n",
       "14940    1/1/2022 1:28:35 PM      0.982823  14940\n",
       "14941    1/1/2022 2:34:39 PM      0.982823  14941\n",
       "\n",
       "[14942 rows x 3 columns]"
      ]
     },
     "metadata": {},
     "output_type": "display_data"
    },
    {
     "data": {
      "text/html": [
       "<div>\n",
       "<style scoped>\n",
       "    .dataframe tbody tr th:only-of-type {\n",
       "        vertical-align: middle;\n",
       "    }\n",
       "\n",
       "    .dataframe tbody tr th {\n",
       "        vertical-align: top;\n",
       "    }\n",
       "\n",
       "    .dataframe thead th {\n",
       "        text-align: right;\n",
       "    }\n",
       "</style>\n",
       "<table border=\"1\" class=\"dataframe\">\n",
       "  <thead>\n",
       "    <tr style=\"text-align: right;\">\n",
       "      <th></th>\n",
       "      <th>D</th>\n",
       "      <th>Timestamp</th>\n",
       "      <th>Sensor Value</th>\n",
       "    </tr>\n",
       "  </thead>\n",
       "  <tbody>\n",
       "    <tr>\n",
       "      <th>0</th>\n",
       "      <td>0</td>\n",
       "      <td>12/2/2019 12:29:20 AM</td>\n",
       "      <td>0.910916</td>\n",
       "    </tr>\n",
       "    <tr>\n",
       "      <th>1</th>\n",
       "      <td>1</td>\n",
       "      <td>12/2/2019 1:29:23 AM</td>\n",
       "      <td>0.910916</td>\n",
       "    </tr>\n",
       "    <tr>\n",
       "      <th>2</th>\n",
       "      <td>2</td>\n",
       "      <td>12/2/2019 2:30:19 AM</td>\n",
       "      <td>0.886947</td>\n",
       "    </tr>\n",
       "    <tr>\n",
       "      <th>3</th>\n",
       "      <td>3</td>\n",
       "      <td>12/2/2019 3:29:57 AM</td>\n",
       "      <td>0.910916</td>\n",
       "    </tr>\n",
       "    <tr>\n",
       "      <th>4</th>\n",
       "      <td>4</td>\n",
       "      <td>12/2/2019 4:29:26 AM</td>\n",
       "      <td>0.934885</td>\n",
       "    </tr>\n",
       "    <tr>\n",
       "      <th>...</th>\n",
       "      <td>...</td>\n",
       "      <td>...</td>\n",
       "      <td>...</td>\n",
       "    </tr>\n",
       "    <tr>\n",
       "      <th>14937</th>\n",
       "      <td>14937</td>\n",
       "      <td>1/1/2022 10:28:42 AM</td>\n",
       "      <td>0.982823</td>\n",
       "    </tr>\n",
       "    <tr>\n",
       "      <th>14938</th>\n",
       "      <td>14938</td>\n",
       "      <td>1/1/2022 11:31:29 AM</td>\n",
       "      <td>0.982823</td>\n",
       "    </tr>\n",
       "    <tr>\n",
       "      <th>14939</th>\n",
       "      <td>14939</td>\n",
       "      <td>1/1/2022 12:29:57 PM</td>\n",
       "      <td>0.982823</td>\n",
       "    </tr>\n",
       "    <tr>\n",
       "      <th>14940</th>\n",
       "      <td>14940</td>\n",
       "      <td>1/1/2022 1:28:35 PM</td>\n",
       "      <td>0.982823</td>\n",
       "    </tr>\n",
       "    <tr>\n",
       "      <th>14941</th>\n",
       "      <td>14941</td>\n",
       "      <td>1/1/2022 2:34:39 PM</td>\n",
       "      <td>0.982823</td>\n",
       "    </tr>\n",
       "  </tbody>\n",
       "</table>\n",
       "<p>14942 rows × 3 columns</p>\n",
       "</div>"
      ],
      "text/plain": [
       "           D              Timestamp  Sensor Value\n",
       "0          0  12/2/2019 12:29:20 AM      0.910916\n",
       "1          1   12/2/2019 1:29:23 AM      0.910916\n",
       "2          2   12/2/2019 2:30:19 AM      0.886947\n",
       "3          3   12/2/2019 3:29:57 AM      0.910916\n",
       "4          4   12/2/2019 4:29:26 AM      0.934885\n",
       "...      ...                    ...           ...\n",
       "14937  14937   1/1/2022 10:28:42 AM      0.982823\n",
       "14938  14938   1/1/2022 11:31:29 AM      0.982823\n",
       "14939  14939   1/1/2022 12:29:57 PM      0.982823\n",
       "14940  14940    1/1/2022 1:28:35 PM      0.982823\n",
       "14941  14941    1/1/2022 2:34:39 PM      0.982823\n",
       "\n",
       "[14942 rows x 3 columns]"
      ]
     },
     "metadata": {},
     "output_type": "display_data"
    }
   ],
   "source": [
    "from IPython.display import display\n",
    "\n",
    "tag['D'] = np.arange(0,tag.shape[0],1)\n",
    "\n",
    "tag_sorted = tag[['D'] + tag.columns.values[:-1].tolist()]\n",
    "\n",
    "display(tag,tag_sorted)"
   ]
  },
  {
   "cell_type": "code",
   "execution_count": 22,
   "metadata": {},
   "outputs": [
    {
     "name": "stdout",
     "output_type": "stream",
     "text": [
      "2020-09-01 00:00:00 2020-10-01 00:00:00\n"
     ]
    }
   ],
   "source": [
    "import datetime\n",
    "from dateutil.relativedelta import relativedelta\n",
    "import pandas as pd\n",
    "\n",
    "start = pd.to_datetime(\"2020/09\")\n",
    "end = start + relativedelta(months = 1)\n",
    "\n",
    "print(start, end)"
   ]
  },
  {
   "cell_type": "code",
   "execution_count": 32,
   "metadata": {},
   "outputs": [
    {
     "data": {
      "text/plain": [
       "0         12/2/2019 12:29:20 AM\n",
       "200       12/10/2019 8:29:15 AM\n",
       "400       12/18/2019 4:33:02 PM\n",
       "600       12/27/2019 1:29:23 AM\n",
       "800         1/4/2020 8:29:21 AM\n",
       "                  ...          \n",
       "14000    11/20/2021 12:28:48 PM\n",
       "14200     11/28/2021 7:28:44 PM\n",
       "14400      12/7/2021 3:30:41 AM\n",
       "14600     12/18/2021 2:28:44 AM\n",
       "14800    12/26/2021 10:28:34 AM\n",
       "Name: Timestamp, Length: 75, dtype: object"
      ]
     },
     "execution_count": 32,
     "metadata": {},
     "output_type": "execute_result"
    }
   ],
   "source": [
    "label = np.arange(0,len(tag['Timestamp']),1) % 200 == 0\n",
    "tag['Timestamp'].loc[label]\n"
   ]
  },
  {
   "cell_type": "code",
   "execution_count": 44,
   "metadata": {},
   "outputs": [
    {
     "data": {
      "text/plain": [
       "(array([   76,   451,  1050,  1425,  2342,  2755,  3658,  4457,  5055,\n",
       "         5471,  5774,  6365,  7048,  7406,  7830,  8427,  8715,  9003,\n",
       "         9416,  9985, 10348, 10744, 11973, 12474, 13373, 13648, 14009,\n",
       "        14582], dtype=int64),)"
      ]
     },
     "execution_count": 44,
     "metadata": {},
     "output_type": "execute_result"
    }
   ],
   "source": [
    "from scipy.signal import argrelextrema\n",
    "table = tag['Sensor Value'].to_numpy()\n",
    "max_index = argrelextrema(table, np.greater , order = 200)\n",
    "\n",
    "import matplotlib.pyplot as plt\n",
    "max_index\n"
   ]
  },
  {
   "cell_type": "code",
   "execution_count": 45,
   "metadata": {},
   "outputs": [
    {
     "data": {
      "text/plain": [
       "76       1.102668\n",
       "451      1.342358\n",
       "1050     0.886947\n",
       "1425     0.862978\n",
       "2342     1.246482\n",
       "2755     0.982823\n",
       "3658     1.294420\n",
       "4457     2.684622\n",
       "5055     3.020188\n",
       "5471     2.924312\n",
       "5774     2.924312\n",
       "6365     3.475599\n",
       "7048     2.972250\n",
       "7406     4.698018\n",
       "7830     3.092095\n",
       "8427     2.157304\n",
       "8715     2.109366\n",
       "9003     2.828436\n",
       "9416     2.708591\n",
       "9985     3.116064\n",
       "10348    3.667351\n",
       "10744    3.595444\n",
       "11973    4.170700\n",
       "12474    4.554204\n",
       "13373    3.379723\n",
       "13648    2.828436\n",
       "14009    3.571475\n",
       "14582    2.396994\n",
       "Name: Sensor Value, dtype: float64"
      ]
     },
     "execution_count": 45,
     "metadata": {},
     "output_type": "execute_result"
    }
   ],
   "source": [
    "tag.loc[max_index[0], 'Sensor Value']"
   ]
  },
  {
   "cell_type": "code",
   "execution_count": 2,
   "metadata": {},
   "outputs": [
    {
     "name": "stdout",
     "output_type": "stream",
     "text": [
      "Num GPUs Available:  1\n"
     ]
    }
   ],
   "source": [
    "import tensorflow as tf\n",
    "print(\"Num GPUs Available: \", len(tf.config.list_physical_devices('GPU')))"
   ]
  },
  {
   "cell_type": "code",
   "execution_count": 3,
   "metadata": {},
   "outputs": [
    {
     "name": "stdout",
     "output_type": "stream",
     "text": [
      "Executing op _EagerConst in device /job:localhost/replica:0/task:0/device:GPU:0\n",
      "Executing op _EagerConst in device /job:localhost/replica:0/task:0/device:GPU:0\n",
      "Executing op MatMul in device /job:localhost/replica:0/task:0/device:GPU:0\n",
      "tf.Tensor(\n",
      "[[22. 28.]\n",
      " [49. 64.]], shape=(2, 2), dtype=float32)\n"
     ]
    }
   ],
   "source": [
    "tf.debugging.set_log_device_placement(True)\n",
    "\n",
    "# Create some tensors\n",
    "a = tf.constant([[1.0, 2.0, 3.0], [4.0, 5.0, 6.0]])\n",
    "b = tf.constant([[1.0, 2.0], [3.0, 4.0], [5.0, 6.0]])\n",
    "c = tf.matmul(a, b)\n",
    "\n",
    "print(c)"
   ]
  },
  {
   "cell_type": "code",
   "execution_count": null,
   "metadata": {},
   "outputs": [],
   "source": [
    "import pandas as pd\n",
    "\n",
    "x = pd.to_datetime()"
   ]
  }
 ],
 "metadata": {
  "kernelspec": {
   "display_name": "Python 3 (ipykernel)",
   "language": "python",
   "name": "python3"
  },
  "language_info": {
   "codemirror_mode": {
    "name": "ipython",
    "version": 3
   },
   "file_extension": ".py",
   "mimetype": "text/x-python",
   "name": "python",
   "nbconvert_exporter": "python",
   "pygments_lexer": "ipython3",
   "version": "3.9.7"
  }
 },
 "nbformat": 4,
 "nbformat_minor": 4
}
