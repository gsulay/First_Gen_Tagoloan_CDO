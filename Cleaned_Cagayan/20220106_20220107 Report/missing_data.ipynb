{
 "cells": [
  {
   "cell_type": "code",
   "execution_count": 26,
   "metadata": {},
   "outputs": [],
   "source": [
    "import numpy as np\n",
    "import pandas as pd\n",
    "import matplotlib.pyplot as plt\n",
    "\n",
    "missing_water = pd.read_csv(\"Missing Water 20220106_20220107 Report.csv\")\n",
    "missing_rg = pd.read_csv(\"Missing RG 20220106_20220107 Report.csv\")\n",
    "def plot_missing_data(missing_water,missing_rg):\n",
    "    \"\"\"Returns matplot fig and ax of the missing data plot\"\"\"\n",
    "    missing_water.drop(columns=missing_water.columns[0], inplace=True)\n",
    "    missing_rg.drop(columns=missing_rg.columns[0], inplace=True)\n",
    "\n",
    "    missing_water['Timestamp'] = pd.to_datetime(missing_water['Timestamp'])\n",
    "    missing_rg['Timestamp'] = pd.to_datetime(missing_rg['Timestamp'])\n",
    "\n",
    "    water_min_val_month = missing_water['Timestamp'].min().month\n",
    "    water_min_val_year = missing_water['Timestamp'].min().year\n",
    "    water_max_val_month = missing_water['Timestamp'].max().month\n",
    "    water_max_val_year = missing_water['Timestamp'].max().year\n",
    "\n",
    "    rg_min_val_month = missing_rg['Timestamp'].min().month\n",
    "    rg_min_val_year = missing_rg['Timestamp'].min().year\n",
    "    rg_max_val_month = missing_rg['Timestamp'].max().month\n",
    "    rg_max_val_year = missing_rg['Timestamp'].max().year\n",
    "\n",
    "    min_val_month = pd.Series([water_min_val_month, rg_min_val_month]).min()\n",
    "    min_val_year = pd.Series([water_min_val_year,rg_min_val_year]).min()\n",
    "    max_val_month = pd.Series([water_max_val_month,rg_max_val_month]).max()\n",
    "    max_val_year = pd.Series([water_max_val_year,rg_max_val_year]).max()\n",
    "\n",
    "    min_datetime = pd.to_datetime(f\"01/{min_val_month}/{min_val_year}\", format=r\"%d/%m/%Y\")\n",
    "    max_datetime = pd.to_datetime(f\"01/{max_val_month+1}/{max_val_year}\", format=r\"%d/%m/%Y\") - pd.Timedelta(days=1)\n",
    "\n",
    "    date_range = pd.date_range(min_datetime,max_datetime,freq=\"1H\")\n",
    "\n",
    "    missing_water['Water Missing'] = 1\n",
    "    missing_rg['RG Missing'] = 2\n",
    "\n",
    "    complete_range_df = pd.DataFrame({'Timestamp':date_range})\n",
    "    complete_range_df['Timestamp'] = pd.to_datetime(complete_range_df['Timestamp'])\n",
    "    missing_df = pd.concat([complete_range_df,missing_water,missing_rg], keys=\"Timestamp\")\n",
    "    fig,ax = plt.subplots(figsize=[15,10])\n",
    "    ax.scatter(missing_df['Timestamp'], missing_df['Water Missing'], color='blue', label=f\"Missing Water: {missing_df['Water Missing'].count()} Missing Data\")\n",
    "    ax.scatter(missing_df['Timestamp'], missing_df['RG Missing'], color='green', label=f\"Missing RG: {missing_df['RG Missing'].count()} Missing Data\")\n",
    "    ax.set_ylim((0,3))\n",
    "    ax.set_yticks([])\n",
    "    ax.legend()\n",
    "    ax.set_xlabel(\"Timestamp\")\n",
    "    ax.set_title(\"Missing Data Entries\")\n",
    "    ax.grid(visible=True)\n",
    "    return fig,ax"
   ]
  },
  {
   "cell_type": "code",
   "execution_count": 27,
   "metadata": {},
   "outputs": [
    {
     "data": {
      "image/png": "[encoded data removed]",
      "text/plain": [
       "<Figure size 1080x720 with 1 Axes>"
      ]
     },
     "metadata": {
      "needs_background": "light"
     },
     "output_type": "display_data"
    }
   ],
   "source": [
    "fig,ax = plot_missing_data(missing_water, missing_rg)"
   ]
  },
  {
   "cell_type": "code",
   "execution_count": null,
   "metadata": {},
   "outputs": [],
   "source": []
  }
 ],
 "metadata": {
  "kernelspec": {
   "display_name": "Python 3.9.7 ('base')",
   "language": "python",
   "name": "python3"
  },
  "language_info": {
   "codemirror_mode": {
    "name": "ipython",
    "version": 3
   },
   "file_extension": ".py",
   "mimetype": "text/x-python",
   "name": "python",
   "nbconvert_exporter": "python",
   "pygments_lexer": "ipython3",
   "version": "3.9.7"
  },
  "orig_nbformat": 4,
  "vscode": {
   "interpreter": {
    "hash": "7c031526a147983fdb0109eb28e11d0d68b68b2c0484cebf386ea03e1a29d4e7"
   }
  }
 },
 "nbformat": 4,
 "nbformat_minor": 2
}
