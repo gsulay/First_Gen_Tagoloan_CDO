{
 "cells": [
  {
   "cell_type": "code",
   "execution_count": null,
   "metadata": {},
   "outputs": [],
   "source": []
  }
 ],
 "metadata": {
  "kernelspec": {
   "display_name": "Python 3.9.7 ('base')",
   "language": "python",
   "name": "python3"
  },
  "language_info": {
   "name": "python",
   "version": "3.9.7"
  },
  "orig_nbformat": 4,
  "vscode": {
   "interpreter": {
    "hash": "7c031526a147983fdb0109eb28e11d0d68b68b2c0484cebf386ea03e1a29d4e7"
   }
  }
 },
 "nbformat": 4,
 "nbformat_minor": 2
}
