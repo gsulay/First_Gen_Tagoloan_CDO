{
 "cells": [
  {
   "cell_type": "code",
   "execution_count": 1,
   "id": "bfe33957",
   "metadata": {},
   "outputs": [],
   "source": [
    "import numpy as np\n",
    "import pandas as pd\n",
    "pd.options.mode.chained_assignment = None\n",
    "from pathlib import Path\n",
    "import os\n",
    "from IPython.display import display\n",
    "\n",
    "__author__ = \"Gifrey John M. Sulay\"\n",
    "__copyright__ = \"Xavier University - Engineering Resource Center\""
   ]
  },
  {
   "cell_type": "code",
   "execution_count": 2,
   "id": "d372767a",
   "metadata": {},
   "outputs": [],
   "source": [
    "import datetime\n",
    "from dateutil.relativedelta import relativedelta\n",
    "\n",
    "def set_time_range():\n",
    "    run = True\n",
    "    while run:\n",
    "        try:\n",
    "            input_start_date = str(input(\"Please input Start Date (Format=Month,Date,Year): \"))\n",
    "            start_date_datetime = pd.to_datetime(input_start_date,format=\"%m,%d,%Y\")\n",
    "\n",
    "            input_end_date = str(input(\"Please input End Date (Format=Month,Date,Year): \"))\n",
    "            end_date_datetime = pd.to_datetime(input_end_date,format=\"%m,%d,%Y\")\n",
    "\n",
    "            print((f\"Date start is {start_date_datetime} and End Date is {end_date_datetime}\"))\n",
    "            date_confirm = input(\"Type y if the input is correct or n to try again: \")\n",
    "            if date_confirm == \"y\":\n",
    "                start_date = start_date_datetime\n",
    "                end_date = end_date_datetime + datetime.timedelta(days = 1)\n",
    "                run = False\n",
    "            elif date_confirm == \"n\":\n",
    "                continue\n",
    "            else:\n",
    "                raise ValueError\n",
    "                \n",
    "        except Exception as e:\n",
    "            print(e)\n",
    "    return start_date, end_date\n",
    "\n",
    "is_range = input(\"Do you wish to select a range? (y for yes, n for no and select entire available data)\")\n",
    "\n",
    "run=True\n",
    "while run:\n",
    "    try:\n",
    "        if is_range == \"y\" or \"Y\":\n",
    "            start_date, end_date = set_time_range()\n",
    "        elif is_range == \"n\" or \"N\":\n",
    "            start_date, end_date = (None, None)\n",
    "        else:\n",
    "            print('Not valid argument. Please try again')\n",
    "            raise ValueError\n",
    "        run = False\n",
    "    except Exception as e:\n",
    "        print(e)\n",
    "    "
   ]
  },
  {
   "cell_type": "code",
   "execution_count": 3,
   "id": "a0b1fb17",
   "metadata": {},
   "outputs": [],
   "source": [
    "cag_path = Path(\"Edited_Data/Cagayan/cag.csv\")\n",
    "rg_path = Path(\"Edited_Data/Cagayan/rg1.csv\")\n",
    "\n",
    "cag = pd.read_csv(cag_path)[['Timestamp', 'Sensor Value']]\n",
    "rg = pd.read_csv(rg_path)[['Timestamp', 'Sensor Value']]\n",
    "\n",
    "display('Cagayan Water Table',cag.head(),cag.tail())\n",
    "display('Rain Gauge Data',rg.head(),rg.tail())"
   ]
  },
  {
   "cell_type": "code",
   "execution_count": 4,
   "id": "96746ee3",
   "metadata": {},
   "outputs": [],
   "source": [
    "#Delete duplicates\n",
    "cag_1 = cag.drop_duplicates(keep='first')\n",
    "rg_1 = rg.drop_duplicates(keep='first')\n",
    "\n",
    "cag_dropped=len(cag)-len(cag_1)\n",
    "rg_dropped=len(rg)-len(rg_1)\n",
    "\n",
    "print(f\"No of cells dropped from water level table is {cag_dropped} cells\")\n",
    "print(f\"No of cells dropped from rain gauge table is {rg_dropped} cells\")\n",
    "\n",
    "cag = cag_1\n",
    "rg = rg_1\n",
    "\n",
    "display(cag,rg)"
   ]
  },
  {
   "cell_type": "code",
   "execution_count": 5,
   "id": "79dbefbc",
   "metadata": {},
   "outputs": [],
   "source": [
    "def column_apply(df,column, function):\n",
    "    df[column] = df[column].apply(function)\n",
    "\n",
    "def map_apply(df,function):\n",
    "    df =  df.applymap(function)"
   ]
  },
  {
   "cell_type": "code",
   "execution_count": 6,
   "id": "b82dd099",
   "metadata": {},
   "outputs": [],
   "source": [
    "import datetime\n",
    "\n",
    "column_apply(cag,'Timestamp', lambda x: pd.to_datetime(x).replace(second = 0, minute=0))\n",
    "column_apply(rg,'Timestamp', lambda x: pd.to_datetime(x).replace(second = 0, minute=0))\n",
    "\n",
    "# column_apply(cag,'Timestamp', lambda x: x.replace(second = 0, minute=0))\n",
    "# column_apply(rg,'Timestamp', lambda x: x.replace(second = 0, minute=0))"
   ]
  },
  {
   "cell_type": "code",
   "execution_count": 7,
   "id": "1f341050",
   "metadata": {},
   "outputs": [],
   "source": [
    "rg = rg.groupby(by='Timestamp').mean().reset_index()\n",
    "cag = cag.groupby(by='Timestamp').mean().reset_index()"
   ]
  },
  {
   "cell_type": "code",
   "execution_count": 8,
   "id": "373b119a",
   "metadata": {},
   "outputs": [],
   "source": [
    "cag=cag.rename(columns={\"Sensor Value\":\"Water Level\"})\n",
    "rg=rg.rename(columns={\"Sensor Value\":\"Rain Gauge\"})\n",
    "\n",
    "display(cag,rg)"
   ]
  },
  {
   "cell_type": "code",
   "execution_count": 9,
   "id": "6bf7d509",
   "metadata": {},
   "outputs": [],
   "source": [
    "def make_base_time(cag,rg):\n",
    "    rg_start_date = rg.iloc[0,0]\n",
    "    rg_end_date = rg.iloc[-1,0]\n",
    "    cag_start_date = cag.iloc[0,0]\n",
    "    cag_end_date = cag.iloc[-1,0]\n",
    "\n",
    "\n",
    "    if rg_start_date > cag_start_date:\n",
    "        start_date = cag_start_date\n",
    "    else:\n",
    "        start_date = rg_start_date\n",
    "\n",
    "    if rg_end_date < cag_end_date:\n",
    "        end_date = cag_end_date\n",
    "    else:\n",
    "        end_date = rg_end_date\n",
    "\n",
    "    base_time = pd.DataFrame({'Timestamp':pd.date_range(start=start_date, end=end_date, freq=\"H\")})\n",
    "    return base_time\n",
    "\n",
    "if start_date != None:\n",
    "    base_time = pd.DataFrame({'Timestamp':pd.date_range(start=start_date, end=end_date, freq=\"H\")})\n",
    "else:\n",
    "    base_time = make_base_time(cag,rg)"
   ]
  },
  {
   "cell_type": "code",
   "execution_count": 10,
   "id": "8cb489e9",
   "metadata": {},
   "outputs": [],
   "source": [
    "cag = pd.merge(base_time, cag, how='left', on='Timestamp')\n",
    "main_df = pd.merge(cag,rg,how='left', on='Timestamp')"
   ]
  },
  {
   "cell_type": "code",
   "execution_count": 11,
   "id": "ec41ac72",
   "metadata": {},
   "outputs": [],
   "source": [
    "missing_water = main_df.loc[main_df['Water Level'].isna()]\n",
    "missing_rg = main_df.loc[main_df['Rain Gauge'].isna()]\n",
    "\n",
    "display(missing_water)\n",
    "display(missing_rg)"
   ]
  },
  {
   "cell_type": "code",
   "execution_count": 12,
   "id": "52b6f8ec",
   "metadata": {},
   "outputs": [],
   "source": [
    "main_df['Hour'] = main_df['Timestamp'].apply(lambda x: pd.to_datetime(x).strftime('%H'))\n",
    "\n",
    "#Rearranges the datafrom to place the Hour data as the first column\n",
    "main_df = main_df[['Hour']+main_df.columns.values[:-1].tolist()]"
   ]
  },
  {
   "cell_type": "code",
   "execution_count": 13,
   "id": "5455b982",
   "metadata": {},
   "outputs": [],
   "source": [
    "main_df['Rain Gauge'] = main_df['Rain Gauge'].astype('float64').interpolate()"
   ]
  },
  {
   "cell_type": "code",
   "execution_count": 14,
   "id": "fb5d2ae8",
   "metadata": {},
   "outputs": [],
   "source": [
    "def rg_diff(lst):\n",
    "    new_list = [0]\n",
    "    count = 1\n",
    "    for value in lst[1:]:\n",
    "        if value-lst[count-1] > 0:\n",
    "            value-=lst[count-1]\n",
    "            new_list.append(value)\n",
    "        else:\n",
    "            new_list.append(0)\n",
    "        count += 1\n",
    "    return new_list\n",
    "\n",
    "main_df['RG_Diff'] = rg_diff(main_df.loc[:,'Rain Gauge'])\n",
    "\n",
    "main_df"
   ]
  },
  {
   "cell_type": "code",
   "execution_count": 15,
   "id": "f4612b0d",
   "metadata": {},
   "outputs": [],
   "source": [
    "def clean_water_level(df, column, diff_limit = 0.5):\n",
    "    corrected_df = df.copy()\n",
    "    water_level = corrected_df[column]\n",
    "    #diff limit determines whether the difference is erroneous if difference is more than diff limit then data is erroneous\n",
    "    is_erroneous=[0]\n",
    "    count = 1\n",
    "    \n",
    "    for i in water_level[1:]:\n",
    "        val = i-water_level[count - 1]\n",
    "        val = abs(val)\n",
    "        if val >= diff_limit:\n",
    "            is_erroneous.append(1)\n",
    "        else:\n",
    "            is_erroneous.append(0)\n",
    "        count += 1\n",
    "    corrected_df['err_check']=is_erroneous\n",
    "    corrected_df.loc[corrected_df['err_check']==1, column] = np.nan\n",
    "    \n",
    "    edited_water_level=corrected_df.loc[:, column]\n",
    "    final_water_level=edited_water_level.astype('float64').interpolate()\n",
    "    corrected_df=corrected_df.drop(columns=[column,'err_check'])\n",
    "    corrected_df[column]=final_water_level\n",
    "    return corrected_df\n",
    "\n",
    "corrected_main_df = clean_water_level(main_df, 'Water Level', diff_limit=0.5)"
   ]
  },
  {
   "cell_type": "code",
   "execution_count": 16,
   "id": "f7a78141",
   "metadata": {},
   "outputs": [],
   "source": [
    "display('Raw Water Table',main_df,'Corrected Water Table',corrected_main_df)"
   ]
  },
  {
   "cell_type": "code",
   "execution_count": 17,
   "id": "eabcac08",
   "metadata": {},
   "outputs": [],
   "source": [
    "import matplotlib.pyplot as plt\n",
    "from scipy.signal import argrelextrema\n",
    "\n",
    "fig,ax = plt.subplots(1,2, figsize=(25,8), sharey=True)\n",
    "\n",
    "water_level = main_df['Water Level'].to_numpy()\n",
    "ax[0].plot(main_df['Timestamp'], water_level)\n",
    "ax[0].set_title('Raw Water Table')\n",
    "water_level_max_index = argrelextrema(water_level, np.greater , order = 10)\n",
    "ax[0].scatter(main_df.loc[water_level_max_index[0], 'Timestamp'], water_level[water_level_max_index[0]], color='r')\n",
    "\n",
    "for index in water_level_max_index[0]:\n",
    "    timestamp=str(main_df.loc[index, 'Timestamp'])\n",
    "    ax[0].annotate(\"{}\\n{}\\n{:.2f}m\".format(timestamp.split()[0],timestamp.split()[1], water_level[index]),\n",
    "    (main_df.loc[index, 'Timestamp'], water_level[index]+0.05),\n",
    "    ha='center')\n",
    "\n",
    "corrected_water_level = corrected_main_df['Water Level'].to_numpy()\n",
    "ax[1].plot(main_df['Timestamp'], corrected_water_level)\n",
    "ax[1].set_title('Corrected Water Table')\n",
    "corrected_water_level_max_index = argrelextrema(corrected_water_level, np.greater , order = 10)\n",
    "ax[1].scatter(main_df.loc[corrected_water_level_max_index[0], 'Timestamp'], corrected_water_level[corrected_water_level_max_index[0]], color='r')\n",
    "\n",
    "for index in corrected_water_level_max_index[0]:\n",
    "    timestamp=str(main_df.loc[index, 'Timestamp'])\n",
    "    ax[1].annotate(\"{}\\n{}\\n{:.2f}m\".format(timestamp.split()[0],timestamp.split()[1],corrected_water_level[index]),\n",
    "    (main_df.loc[index, 'Timestamp'], corrected_water_level[index] + 0.05,),\n",
    "    ha='center')\n",
    "\n",
    "label = np.arange(0,len(main_df['Timestamp']),1) % 200 == 0\n",
    "for x in ax:\n",
    "    x.set_xticks(main_df[\"Timestamp\"].loc[label])\n",
    "    x.set_xlabel(\"Timestamp\")\n",
    "    x.set_ylabel(\"Water Level in Meters\")\n",
    "    x.grid(visible=True)\n",
    "\n",
    "    x.spines['top'].set_visible(False)\n",
    "    x.spines['right'].set_visible(False)\n",
    "    x.spines['bottom'].set_visible(False)\n",
    "    x.spines['left'].set_visible(False)\n",
    "fig.tight_layout()\n",
    "\n",
    "water_fig = fig\n",
    "plt.show()"
   ]
  },
  {
   "cell_type": "code",
   "execution_count": 18,
   "id": "521dbc65",
   "metadata": {},
   "outputs": [],
   "source": [
    "fig, ax = plt.subplots(2,1, figsize=(22,8), sharex=True, sharey=True)\n",
    "\n",
    "ax[0].plot(main_df['Timestamp'], main_df['Rain Gauge'])\n",
    "ax[0].set_title('Rain Gauge Reading')\n",
    "\n",
    "raw_rg_arry = main_df['Rain Gauge'].to_numpy()\n",
    "raw_rg_max_index = argrelextrema(raw_rg_arry, np.greater , order = 10)[0]\n",
    "ax[0].scatter(main_df['Timestamp'][raw_rg_max_index], raw_rg_arry[raw_rg_max_index], color='r')\n",
    "\n",
    "for index in raw_rg_max_index:\n",
    "    timestamp = str(main_df['Timestamp'][index])\n",
    "    ax[0].annotate(\"{}\\n{}\\n{:.2f}\".format(timestamp.split()[0],timestamp.split()[1],raw_rg_arry[index]),\n",
    "    (main_df['Timestamp'][index],raw_rg_arry[index] + 0.05),\n",
    "    va='bottom',ha='center',fontsize='x-small')\n",
    "\n",
    "ax[1].plot(main_df['Timestamp'], main_df['RG_Diff'])\n",
    "ax[1].set_title('Rain Gauge Difference')\n",
    "\n",
    "rg_diff_arry = main_df['RG_Diff'].to_numpy()\n",
    "rg_diff_max_index = argrelextrema(raw_rg_arry, np.greater , order = 10)[0]\n",
    "ax[1].scatter(main_df['Timestamp'][rg_diff_max_index], rg_diff_arry[rg_diff_max_index], color='r')\n",
    "\n",
    "for index in rg_diff_max_index:\n",
    "    timestamp = str(main_df['Timestamp'][index])\n",
    "    ax[1].annotate(\"{}\\n{}\\n{:.2f}\".format(timestamp.split()[0],timestamp.split()[1],rg_diff_arry[index]),\n",
    "    (main_df['Timestamp'][index],rg_diff_arry[index] + 0.05),\n",
    "    va='bottom',ha='center',fontsize='x-small')\n",
    "\n",
    "label = np.arange(0,len(main_df['Timestamp']),1) % 200 == 0\n",
    "for x in ax:\n",
    "    x.set_xticks(main_df[\"Timestamp\"].loc[label])\n",
    "    x.set_xlabel(\"Timestamp\")\n",
    "    x.set_ylabel(\"Water Level in Meters\")\n",
    "    x.grid(visible=True)\n",
    "\n",
    "    x.spines['top'].set_visible(False)\n",
    "    x.spines['right'].set_visible(False)\n",
    "    x.spines['bottom'].set_visible(False)\n",
    "    x.spines['left'].set_visible(False)\n",
    "\n",
    "fig.tight_layout()\n",
    "\n",
    "rg_fig = fig\n",
    "plt.show()"
   ]
  },
  {
   "cell_type": "code",
   "execution_count": 19,
   "id": "073ca8ae",
   "metadata": {},
   "outputs": [],
   "source": [
    "time_frmt = '%Y/%m/%d %H:00:00'\n",
    "main_df['Timestamp'] = main_df['Timestamp'].apply(lambda x: x.strftime(time_frmt))"
   ]
  },
  {
   "cell_type": "code",
   "execution_count": 20,
   "id": "715baa4c",
   "metadata": {},
   "outputs": [],
   "source": [
    "main_df['Corrected Water Level'] = corrected_main_df['Water Level']\n",
    "\n",
    "start_str = start_date.strftime(\"%Y%d%m\")\n",
    "end_str = end_date.strftime(\"%Y%d%m\")\n",
    "\n",
    "filename = f\"{start_str}_{end_str} Report\"\n",
    "parent_directory = \"Cleaned_Cagayan/\"\n",
    "\n",
    "directory = os.path.join(parent_directory,filename)\n",
    "print(\"Creating directory {}\".format(directory))\n",
    "try:\n",
    "    os.mkdir(directory)\n",
    "except:\n",
    "    print(\"Appending to Existing Directory\")\n",
    "\n",
    "with pd.ExcelWriter(os.path.join(directory,f\"{filename}.xlsx\")) as writer:\n",
    "    main_df.to_excel(writer, sheet_name=f\"{filename}\")\n",
    "\n",
    "water_fig.savefig(os.path.join(directory,f\"Water Level {filename}.png\"),transparent=False,dpi=600)\n",
    "rg_fig.savefig(os.path.join(directory,f\"Rain Gaugy {filename}.png\"),transparent=False,dpi=600)\n",
    "\n",
    "print(\"Excel Sheet and Figures are successfully saved\")"
   ]
  },
  {
   "cell_type": "code",
   "execution_count": 21,
   "id": "ba63b4e3",
   "metadata": {},
   "outputs": [],
   "source": [
    "notebook_dir = os.path.join(directory,f\"{filename}.ipynb\")\n",
    "%notebook -e \"$notebook_dir\"\n",
    "\n",
    "notebook_dir = \"\".join(r'.\\', notebook_dir)\n",
    "!jupyter nbconvert --to html  \"\""
   ]
  },
  {
   "cell_type": "code",
   "execution_count": 22,
   "id": "0cdb064b",
   "metadata": {},
   "outputs": [],
   "source": [
    "notebook_dir = os.path.join(directory,f\"{filename}.ipynb\")\n",
    "%notebook -e \"$notebook_dir\"\n",
    "\n",
    "notebook_dir = \"\".join(r'.\\ '.strip(), notebook_dir)\n",
    "!jupyter nbconvert --to html  \"$notebook_dir\""
   ]
  },
  {
   "cell_type": "code",
   "execution_count": 23,
   "id": "6f8d5943",
   "metadata": {},
   "outputs": [],
   "source": [
    "notebook_dir = os.path.join(directory,f\"{filename}.ipynb\")\n",
    "%notebook -e \"$notebook_dir\"\n",
    "\n",
    "notebook_dir = \"\".join([r'.\\ '.strip(), notebook_dir])\n",
    "!jupyter nbconvert --to html  \"$notebook_dir\""
   ]
  },
  {
   "cell_type": "code",
   "execution_count": 24,
   "id": "6a795506",
   "metadata": {},
   "outputs": [],
   "source": [
    "notebook_dir = os.path.join(directory,f\"{filename}.ipynb\")\n",
    "%notebook -e \"$notebook_dir\"\n",
    "\n",
    "notebook_dir = \"\".join([r'.\\ '.strip(), notebook_dir])\n",
    "import subprocess\n",
    "\n",
    "subprocess.call(f'jupyter nbconvert --to html  \"{notebook_dir}\"')"
   ]
  },
  {
   "cell_type": "code",
   "execution_count": 25,
   "id": "33663083",
   "metadata": {},
   "outputs": [],
   "source": [
    "notebook_dir = os.path.join(directory,f\"{filename}.ipynb\")\n",
    "%notebook -e \"$notebook_dir\"\n",
    "\n",
    "notebook_dir = \"\".join([r'.\\ '.strip(), notebook_dir])\n",
    "import subprocess\n",
    "\n",
    "subprocess.call(f'jupyter nbconvert --to html  \"{notebook_dir}\"', shell=True)"
   ]
  },
  {
   "cell_type": "code",
   "execution_count": 26,
   "id": "6c91785a",
   "metadata": {},
   "outputs": [],
   "source": [
    "notebook_dir = os.path.join(directory,f\"{filename}.ipynb\")\n",
    "%notebook \"$notebook_dir\"\n",
    "\n",
    "notebook_dir = \"\".join([r'.\\ '.strip(), notebook_dir])\n",
    "import subprocess\n",
    "\n",
    "subprocess.call(f'jupyter nbconvert --to html  \"{notebook_dir}\"', shell=True)"
   ]
  },
  {
   "cell_type": "code",
   "execution_count": 27,
   "id": "cab14362",
   "metadata": {},
   "outputs": [],
   "source": [
    "notebook_dir = os.path.join(directory,f\"{filename}.ipynb\")\n",
    "%notebook \"$notebook_dir\"\n",
    "\n",
    "# notebook_dir = \"\".join([r'.\\ '.strip(), notebook_dir])\n",
    "# import subprocess\n",
    "\n",
    "# subprocess.call(f'jupyter nbconvert --to html  \"{notebook_dir}\"', shell=True)"
   ]
  },
  {
   "cell_type": "code",
   "execution_count": 28,
   "id": "8bbbc54d",
   "metadata": {},
   "outputs": [],
   "source": [
    "notebook_dir = os.path.join(directory,f\"{filename}.ipynb\")\n",
    "%notebook \"$notebook_dir\"\n",
    "\n",
    "# notebook_dir = \"\".join([r'.\\ '.strip(), notebook_dir])\n",
    "# import subprocess\n",
    "\n",
    "# subprocess.call(f'jupyter nbconvert --to html  \"{notebook_dir}\"', shell=True)"
   ]
  },
  {
   "cell_type": "code",
   "execution_count": 29,
   "id": "f9882375",
   "metadata": {},
   "outputs": [],
   "source": [
    "notebook_dir = os.path.join(directory,f\"{filename}.ipynb\")\n",
    "%notebook \"$notebook_dir\"\n",
    "\n",
    "# notebook_dir = \"\".join([r'.\\ '.strip(), notebook_dir])\n",
    "# import subprocess\n",
    "\n",
    "# subprocess.call(f'jupyter nbconvert --to html  \"{notebook_dir}\"', shell=True)"
   ]
  }
 ],
 "metadata": {},
 "nbformat": 4,
 "nbformat_minor": 5
}
