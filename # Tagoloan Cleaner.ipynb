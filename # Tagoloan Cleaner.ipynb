{
 "cells": [
  {
   "cell_type": "markdown",
   "metadata": {},
   "source": [
    "# Tagoloan Cleaner\n",
    "The purpose of this notebook is to clean the sensor value of Tagoloan's Rain Gauge given First Gen's sensor specification where the sensor value maxes out at 819.2mm"
   ]
  },
  {
   "cell_type": "markdown",
   "metadata": {},
   "source": [
    "## Import the necessary libraries"
   ]
  },
  {
   "attachments": {},
   "cell_type": "markdown",
   "metadata": {},
   "source": [
    "Note: \n",
    "1. ***Rain Gauge*** is the only one need of cleaning. <u>Water Level</u> is already accurate\n",
    "2. ***Rain Gauge 2*** is already Accurate."
   ]
  },
  {
   "cell_type": "code",
   "execution_count": 5,
   "metadata": {},
   "outputs": [],
   "source": [
    "import os\n",
    "from pathlib import Path\n",
    "import pandas as pd\n",
    "\n",
    "rg1_raw     = Path(r\"Rain Gauge\\Tagoloan\\Rain Gauge 1\\Raw\")\n",
    "rg2_raw     = Path(r\"Rain Gauge\\Tagoloan\\Rain Gauge 2\\Raw\")\n",
    "final_rg1   = Path(r\"Rain Gauge\\Tagoloan\\Rain Gauge 1\")\n",
    "final_rg2   = Path(r\"Rain Gauge\\Tagoloan\\Rain Gauge 2\")\n"
   ]
  },
  {
   "cell_type": "markdown",
   "metadata": {},
   "source": [
    "### Add all necessary functions"
   ]
  },
  {
   "cell_type": "code",
   "execution_count": 6,
   "metadata": {},
   "outputs": [],
   "source": [
    "def return_all_files(directory,extension):\n",
    "    \"\"\"Returns all files found in the directory given the extension\"\"\"\n",
    "    all_files = []\n",
    "\n",
    "    for filename in os.listdir(directory):\n",
    "        f = os.path.join(directory,filename)\n",
    "        if os.path.isfile(f):\n",
    "            if f.split('.')[-1] == extension:\n",
    "                all_files.append(Path(f))\n",
    "    return all_files\n",
    "\n",
    "def rg_correction(df):\n",
    "    \"\"\"Returns corrected Sensor Value as a list\"\"\"\n",
    "    \n",
    "    df['New Timestamp'] = df['Timestamp'].apply(lambda x: pd.to_datetime(x))\n",
    "    max_val = 819.2\n",
    "    sum_counter = []\n",
    "    cor_val_list = [df.loc[0, 'Sensor Value']]\n",
    "    for idx in range(1,df.shape[0]):\n",
    "        cur_val = df.loc[idx, 'Sensor Value']\n",
    "        prev_val = df.loc[idx-1, 'Sensor Value']\n",
    "        cur_time = df.loc[idx, 'New Timestamp']\n",
    "        prev_time = df.loc[idx-1, 'New Timestamp']\n",
    "\n",
    "        hours_diff = (cur_time - prev_time).seconds / 3600\n",
    "        #First catches if sensor dips, second catches if the time difference is just 1 hour\n",
    "        if ((cur_val - prev_val) < 0 and hours_diff <= 1) and (max_val-prev_val+cur_val < max_val*0.1) :\n",
    "            cor_val = max_val-prev_val+cur_val\n",
    "            new_cor_val = cor_val+prev_val\n",
    "            cor_val_list.append(new_cor_val)\n",
    "            sum_counter.append(new_cor_val)\n",
    "            continue\n",
    "        cor_val = cur_val + sum(sum_counter)\n",
    "        cor_val_list.append(cor_val)\n",
    "    \n",
    "    df.drop(columns=[\"New Timestamp\"], inplace=True)\n",
    "    return cor_val_list\n",
    "\n"
   ]
  },
  {
   "cell_type": "markdown",
   "metadata": {},
   "source": [
    "### Main Loop"
   ]
  },
  {
   "cell_type": "code",
   "execution_count": 7,
   "metadata": {},
   "outputs": [
    {
     "name": "stdout",
     "output_type": "stream",
     "text": [
      "Starting process...\n"
     ]
    },
    {
     "name": "stderr",
     "output_type": "stream",
     "text": [
      "c:\\Users\\sulay\\anaconda3\\lib\\site-packages\\openpyxl\\styles\\stylesheet.py:226: UserWarning: Workbook contains no default style, apply openpyxl's default\n",
      "  warn(\"Workbook contains no default style, apply openpyxl's default\")\n"
     ]
    },
    {
     "name": "stderr",
     "output_type": "stream",
     "text": [
      "c:\\Users\\sulay\\anaconda3\\lib\\site-packages\\openpyxl\\styles\\stylesheet.py:226: UserWarning: Workbook contains no default style, apply openpyxl's default\n",
      "  warn(\"Workbook contains no default style, apply openpyxl's default\")\n",
      "c:\\Users\\sulay\\anaconda3\\lib\\site-packages\\openpyxl\\styles\\stylesheet.py:226: UserWarning: Workbook contains no default style, apply openpyxl's default\n",
      "  warn(\"Workbook contains no default style, apply openpyxl's default\")\n",
      "c:\\Users\\sulay\\anaconda3\\lib\\site-packages\\openpyxl\\styles\\stylesheet.py:226: UserWarning: Workbook contains no default style, apply openpyxl's default\n",
      "  warn(\"Workbook contains no default style, apply openpyxl's default\")\n",
      "c:\\Users\\sulay\\anaconda3\\lib\\site-packages\\openpyxl\\styles\\stylesheet.py:226: UserWarning: Workbook contains no default style, apply openpyxl's default\n",
      "  warn(\"Workbook contains no default style, apply openpyxl's default\")\n",
      "c:\\Users\\sulay\\anaconda3\\lib\\site-packages\\openpyxl\\styles\\stylesheet.py:226: UserWarning: Workbook contains no default style, apply openpyxl's default\n",
      "  warn(\"Workbook contains no default style, apply openpyxl's default\")\n",
      "c:\\Users\\sulay\\anaconda3\\lib\\site-packages\\openpyxl\\styles\\stylesheet.py:226: UserWarning: Workbook contains no default style, apply openpyxl's default\n",
      "  warn(\"Workbook contains no default style, apply openpyxl's default\")\n",
      "c:\\Users\\sulay\\anaconda3\\lib\\site-packages\\openpyxl\\styles\\stylesheet.py:226: UserWarning: Workbook contains no default style, apply openpyxl's default\n",
      "  warn(\"Workbook contains no default style, apply openpyxl's default\")\n",
      "c:\\Users\\sulay\\anaconda3\\lib\\site-packages\\openpyxl\\styles\\stylesheet.py:226: UserWarning: Workbook contains no default style, apply openpyxl's default\n",
      "  warn(\"Workbook contains no default style, apply openpyxl's default\")\n",
      "c:\\Users\\sulay\\anaconda3\\lib\\site-packages\\openpyxl\\styles\\stylesheet.py:226: UserWarning: Workbook contains no default style, apply openpyxl's default\n",
      "  warn(\"Workbook contains no default style, apply openpyxl's default\")\n",
      "c:\\Users\\sulay\\anaconda3\\lib\\site-packages\\openpyxl\\styles\\stylesheet.py:226: UserWarning: Workbook contains no default style, apply openpyxl's default\n",
      "  warn(\"Workbook contains no default style, apply openpyxl's default\")\n",
      "c:\\Users\\sulay\\anaconda3\\lib\\site-packages\\openpyxl\\styles\\stylesheet.py:226: UserWarning: Workbook contains no default style, apply openpyxl's default\n",
      "  warn(\"Workbook contains no default style, apply openpyxl's default\")\n",
      "c:\\Users\\sulay\\anaconda3\\lib\\site-packages\\openpyxl\\styles\\stylesheet.py:226: UserWarning: Workbook contains no default style, apply openpyxl's default\n",
      "  warn(\"Workbook contains no default style, apply openpyxl's default\")\n",
      "c:\\Users\\sulay\\anaconda3\\lib\\site-packages\\openpyxl\\styles\\stylesheet.py:226: UserWarning: Workbook contains no default style, apply openpyxl's default\n",
      "  warn(\"Workbook contains no default style, apply openpyxl's default\")\n",
      "c:\\Users\\sulay\\anaconda3\\lib\\site-packages\\openpyxl\\styles\\stylesheet.py:226: UserWarning: Workbook contains no default style, apply openpyxl's default\n",
      "  warn(\"Workbook contains no default style, apply openpyxl's default\")\n",
      "c:\\Users\\sulay\\anaconda3\\lib\\site-packages\\openpyxl\\styles\\stylesheet.py:226: UserWarning: Workbook contains no default style, apply openpyxl's default\n",
      "  warn(\"Workbook contains no default style, apply openpyxl's default\")\n",
      "c:\\Users\\sulay\\anaconda3\\lib\\site-packages\\openpyxl\\styles\\stylesheet.py:226: UserWarning: Workbook contains no default style, apply openpyxl's default\n",
      "  warn(\"Workbook contains no default style, apply openpyxl's default\")\n",
      "c:\\Users\\sulay\\anaconda3\\lib\\site-packages\\openpyxl\\styles\\stylesheet.py:226: UserWarning: Workbook contains no default style, apply openpyxl's default\n",
      "  warn(\"Workbook contains no default style, apply openpyxl's default\")\n",
      "c:\\Users\\sulay\\anaconda3\\lib\\site-packages\\openpyxl\\styles\\stylesheet.py:226: UserWarning: Workbook contains no default style, apply openpyxl's default\n",
      "  warn(\"Workbook contains no default style, apply openpyxl's default\")\n",
      "c:\\Users\\sulay\\anaconda3\\lib\\site-packages\\openpyxl\\styles\\stylesheet.py:226: UserWarning: Workbook contains no default style, apply openpyxl's default\n",
      "  warn(\"Workbook contains no default style, apply openpyxl's default\")\n",
      "c:\\Users\\sulay\\anaconda3\\lib\\site-packages\\openpyxl\\styles\\stylesheet.py:226: UserWarning: Workbook contains no default style, apply openpyxl's default\n",
      "  warn(\"Workbook contains no default style, apply openpyxl's default\")\n",
      "c:\\Users\\sulay\\anaconda3\\lib\\site-packages\\openpyxl\\styles\\stylesheet.py:226: UserWarning: Workbook contains no default style, apply openpyxl's default\n",
      "  warn(\"Workbook contains no default style, apply openpyxl's default\")\n",
      "c:\\Users\\sulay\\anaconda3\\lib\\site-packages\\openpyxl\\styles\\stylesheet.py:226: UserWarning: Workbook contains no default style, apply openpyxl's default\n",
      "  warn(\"Workbook contains no default style, apply openpyxl's default\")\n",
      "c:\\Users\\sulay\\anaconda3\\lib\\site-packages\\openpyxl\\styles\\stylesheet.py:226: UserWarning: Workbook contains no default style, apply openpyxl's default\n",
      "  warn(\"Workbook contains no default style, apply openpyxl's default\")\n",
      "c:\\Users\\sulay\\anaconda3\\lib\\site-packages\\openpyxl\\styles\\stylesheet.py:226: UserWarning: Workbook contains no default style, apply openpyxl's default\n",
      "  warn(\"Workbook contains no default style, apply openpyxl's default\")\n",
      "c:\\Users\\sulay\\anaconda3\\lib\\site-packages\\openpyxl\\styles\\stylesheet.py:226: UserWarning: Workbook contains no default style, apply openpyxl's default\n",
      "  warn(\"Workbook contains no default style, apply openpyxl's default\")\n"
     ]
    },
    {
     "name": "stdout",
     "output_type": "stream",
     "text": [
      "Finished cleaning\n"
     ]
    }
   ],
   "source": [
    "import threading\n",
    "\n",
    "def cleaner(inp,out):\n",
    "    directory = inp\n",
    "    xl_files = return_all_files(directory, 'xlsx')\n",
    "\n",
    "    for file in xl_files:\n",
    "        df = pd.read_excel(file)\n",
    "        df['Sensor Value'] = rg_correction(df)\n",
    "        head, tail = os.path.split(file)\n",
    "        tail = 'Processed_'+tail\n",
    "        df.to_excel(os.path.join(out,tail))\n",
    "def transfer(inp,out):\n",
    "    directory = inp\n",
    "    xl_files = return_all_files(directory, 'xlsx')\n",
    "\n",
    "    for file in xl_files:\n",
    "        df = pd.read_excel(file)\n",
    "        head, tail = os.path.split(file)\n",
    "        tail = 'Processed_'+tail\n",
    "        df.to_excel(os.path.join(out,tail))\n",
    "\n",
    "print(\"Starting process...\")\n",
    "threads = []\n",
    "#RG1\n",
    "for inp, out in zip([rg1_raw], [final_rg1]):\n",
    "    t = threading.Thread(target=cleaner, args=[inp,out])\n",
    "    t.start()\n",
    "    threads.append(t)\n",
    "#RG2\n",
    "for inp, out in zip([rg2_raw], [final_rg2]):\n",
    "    t = threading.Thread(target=transfer, args=[inp,out])\n",
    "    t.start()\n",
    "    threads.append(t)\n",
    "\n",
    "for t in threads:\n",
    "    t.join()\n",
    "print(\"Finished cleaning\")\n",
    "    # count += 1\n",
    "    # perc = count/len(all_rg_path_input)*100\n",
    "    # print(\"Process is {:.2f} percent complete\".format(perc))    \n"
   ]
  }
 ],
 "metadata": {
  "kernelspec": {
   "display_name": "Python 3 (ipykernel)",
   "language": "python",
   "name": "python3"
  },
  "language_info": {
   "codemirror_mode": {
    "name": "ipython",
    "version": 3
   },
   "file_extension": ".py",
   "mimetype": "text/x-python",
   "name": "python",
   "nbconvert_exporter": "python",
   "pygments_lexer": "ipython3",
   "version": "3.9.7"
  },
  "vscode": {
   "interpreter": {
    "hash": "7c031526a147983fdb0109eb28e11d0d68b68b2c0484cebf386ea03e1a29d4e7"
   }
  }
 },
 "nbformat": 4,
 "nbformat_minor": 4
}
